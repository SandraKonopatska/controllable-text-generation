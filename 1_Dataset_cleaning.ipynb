{
 "cells": [
  {
   "cell_type": "code",
   "execution_count": 1,
   "metadata": {
    "id": "dnJ5_oPwiNLn"
   },
   "outputs": [],
   "source": [
    "import pandas as pd\n",
    "import string"
   ]
  },
  {
   "cell_type": "code",
   "execution_count": 2,
   "metadata": {
    "id": "tgVJtk5MVxf6"
   },
   "outputs": [
    {
     "data": {
      "text/html": [
       "<div>\n",
       "<style scoped>\n",
       "    .dataframe tbody tr th:only-of-type {\n",
       "        vertical-align: middle;\n",
       "    }\n",
       "\n",
       "    .dataframe tbody tr th {\n",
       "        vertical-align: top;\n",
       "    }\n",
       "\n",
       "    .dataframe thead th {\n",
       "        text-align: right;\n",
       "    }\n",
       "</style>\n",
       "<table border=\"1\" class=\"dataframe\">\n",
       "  <thead>\n",
       "    <tr style=\"text-align: right;\">\n",
       "      <th></th>\n",
       "      <th>text</th>\n",
       "    </tr>\n",
       "  </thead>\n",
       "  <tbody>\n",
       "    <tr>\n",
       "      <th>0</th>\n",
       "      <td>A magazine supplement with an image of Adolf H...</td>\n",
       "    </tr>\n",
       "    <tr>\n",
       "      <th>1</th>\n",
       "      <td>No law bans “ Mein Kampf ” in Germany , but th...</td>\n",
       "    </tr>\n",
       "    <tr>\n",
       "      <th>2</th>\n",
       "      <td>Thomas Peter / REUTERS )</td>\n",
       "    </tr>\n",
       "    <tr>\n",
       "      <th>3</th>\n",
       "      <td>The city that was the center of Adolf Hitler ’...</td>\n",
       "    </tr>\n",
       "    <tr>\n",
       "      <th>4</th>\n",
       "      <td>What it does n’t have , nor has it since 1945 ...</td>\n",
       "    </tr>\n",
       "    <tr>\n",
       "      <th>...</th>\n",
       "      <td>...</td>\n",
       "    </tr>\n",
       "    <tr>\n",
       "      <th>451098</th>\n",
       "      <td>He came back to a depopulated and devastated R...</td>\n",
       "    </tr>\n",
       "    <tr>\n",
       "      <th>451099</th>\n",
       "      <td>Subsequently the Pope followed a policy of sub...</td>\n",
       "    </tr>\n",
       "    <tr>\n",
       "      <th>451100</th>\n",
       "      <td>Pope Clement VII is remembered for having orde...</td>\n",
       "    </tr>\n",
       "    <tr>\n",
       "      <th>451101</th>\n",
       "      <td>Technorati Tags : Pope , Popes , religion</td>\n",
       "    </tr>\n",
       "    <tr>\n",
       "      <th>451102</th>\n",
       "      <td>Follow us on Facebook or subscribe to our dail...</td>\n",
       "    </tr>\n",
       "  </tbody>\n",
       "</table>\n",
       "<p>451103 rows × 1 columns</p>\n",
       "</div>"
      ],
      "text/plain": [
       "                                                     text\n",
       "0       A magazine supplement with an image of Adolf H...\n",
       "1       No law bans “ Mein Kampf ” in Germany , but th...\n",
       "2                                Thomas Peter / REUTERS )\n",
       "3       The city that was the center of Adolf Hitler ’...\n",
       "4       What it does n’t have , nor has it since 1945 ...\n",
       "...                                                   ...\n",
       "451098  He came back to a depopulated and devastated R...\n",
       "451099  Subsequently the Pope followed a policy of sub...\n",
       "451100  Pope Clement VII is remembered for having orde...\n",
       "451101          Technorati Tags : Pope , Popes , religion\n",
       "451102  Follow us on Facebook or subscribe to our dail...\n",
       "\n",
       "[451103 rows x 1 columns]"
      ]
     },
     "execution_count": 2,
     "metadata": {},
     "output_type": "execute_result"
    }
   ],
   "source": [
    "df_openwebtext10 = pd.read_csv('datasets/openwebtext_10k_sent.csv')\n",
    "df_openwebtext10"
   ]
  },
  {
   "cell_type": "code",
   "execution_count": 3,
   "metadata": {
    "id": "KEA87VhPVWVW"
   },
   "outputs": [],
   "source": [
    "def special_symbols(sentence):\n",
    "  symbols = '#$%&\\*+/<=>'\n",
    "  count = lambda symbols, set_symbols: sum([1 for x in symbols if x in set_symbols])\n",
    "  return count(sentence, set(symbols))"
   ]
  },
  {
   "cell_type": "code",
   "execution_count": 4,
   "metadata": {},
   "outputs": [],
   "source": [
    "def length_symbols(sentence):\n",
    "  return len(sentence)"
   ]
  },
  {
   "cell_type": "code",
   "execution_count": 5,
   "metadata": {},
   "outputs": [],
   "source": [
    "def length_words(sentence):\n",
    "  return len(sentence.split())"
   ]
  },
  {
   "cell_type": "code",
   "execution_count": 6,
   "metadata": {
    "id": "v_7hLQoqVX4a"
   },
   "outputs": [],
   "source": [
    "def is_sentence(sentence):\n",
    "  if type(sentence) != str: return 'Not sentence'\n",
    "  count = lambda symbols, set_symbols: sum([1 for x in symbols if x in set_symbols])\n",
    "  if count(sentence, set(string.ascii_letters)) < count(sentence, set(string.digits)): return 'Not sentence'\n",
    "  if count(sentence, set(string.ascii_letters)) < count(sentence, set(string.punctuation)): return 'Not sentence'\n",
    "  if count(sentence, set(string.ascii_letters)) < count(sentence, set(string.digits)) + count(sentence, set(string.punctuation)): return 'Not sentence'\n",
    "  if (length_words(sentence) > 80) or (length_words(sentence) <= 3): return 'Not sentence'\n",
    "  if length_symbols(sentence) < 11: return 'Not sentence'\n",
    "  if ('@' in sentence) or ('http' in sentence): return 'Not sentence'\n",
    "  if special_symbols(sentence) > 3: return 'Not sentence'\n",
    "  return 'Sentence'"
   ]
  },
  {
   "cell_type": "code",
   "execution_count": 7,
   "metadata": {
    "id": "BCwoMWOQVaOC"
   },
   "outputs": [],
   "source": [
    "def is_complete(sentence):\n",
    "  if sentence[-1] in '''!'\".?»”''': return 'Complete'\n",
    "  if sentence[-3] in '''!'\".?»”''': return 'Complete by third'\n",
    "  return 'Not complete'"
   ]
  },
  {
   "cell_type": "code",
   "execution_count": 8,
   "metadata": {
    "id": "BGTAabrEVb9c"
   },
   "outputs": [],
   "source": [
    "def minus_two_symbols(sentence):\n",
    "  if (sentence[-1] not in '''!'\".?»”''') and (sentence[-3] in '''!'\".?»”'''): return sentence[:-2]\n",
    "  return sentence"
   ]
  },
  {
   "cell_type": "code",
   "execution_count": 9,
   "metadata": {
    "id": "SOSACxDUVjRq"
   },
   "outputs": [
    {
     "name": "stderr",
     "output_type": "stream",
     "text": [
      "C:\\Users\\Admin\\AppData\\Local\\Temp\\ipykernel_18840\\1391542349.py:3: SettingWithCopyWarning: \n",
      "A value is trying to be set on a copy of a slice from a DataFrame.\n",
      "Try using .loc[row_indexer,col_indexer] = value instead\n",
      "\n",
      "See the caveats in the documentation: https://pandas.pydata.org/pandas-docs/stable/user_guide/indexing.html#returning-a-view-versus-a-copy\n",
      "  df_openwebtext10['Complete'] = df_openwebtext10['text'].apply(is_complete)\n",
      "C:\\Users\\Admin\\AppData\\Local\\Temp\\ipykernel_18840\\1391542349.py:5: SettingWithCopyWarning: \n",
      "A value is trying to be set on a copy of a slice from a DataFrame.\n",
      "Try using .loc[row_indexer,col_indexer] = value instead\n",
      "\n",
      "See the caveats in the documentation: https://pandas.pydata.org/pandas-docs/stable/user_guide/indexing.html#returning-a-view-versus-a-copy\n",
      "  df_openwebtext10['text'] = df_openwebtext10['text'].apply(minus_two_symbols)\n"
     ]
    },
    {
     "data": {
      "text/html": [
       "<div>\n",
       "<style scoped>\n",
       "    .dataframe tbody tr th:only-of-type {\n",
       "        vertical-align: middle;\n",
       "    }\n",
       "\n",
       "    .dataframe tbody tr th {\n",
       "        vertical-align: top;\n",
       "    }\n",
       "\n",
       "    .dataframe thead th {\n",
       "        text-align: right;\n",
       "    }\n",
       "</style>\n",
       "<table border=\"1\" class=\"dataframe\">\n",
       "  <thead>\n",
       "    <tr style=\"text-align: right;\">\n",
       "      <th></th>\n",
       "      <th>text</th>\n",
       "    </tr>\n",
       "  </thead>\n",
       "  <tbody>\n",
       "    <tr>\n",
       "      <th>0</th>\n",
       "      <td>A magazine supplement with an image of Adolf H...</td>\n",
       "    </tr>\n",
       "    <tr>\n",
       "      <th>1</th>\n",
       "      <td>No law bans “ Mein Kampf ” in Germany , but th...</td>\n",
       "    </tr>\n",
       "    <tr>\n",
       "      <th>2</th>\n",
       "      <td>The city that was the center of Adolf Hitler ’...</td>\n",
       "    </tr>\n",
       "    <tr>\n",
       "      <th>3</th>\n",
       "      <td>What it does n’t have , nor has it since 1945 ...</td>\n",
       "    </tr>\n",
       "    <tr>\n",
       "      <th>4</th>\n",
       "      <td>The latest attempt to publish excerpts fizzled...</td>\n",
       "    </tr>\n",
       "    <tr>\n",
       "      <th>...</th>\n",
       "      <td>...</td>\n",
       "    </tr>\n",
       "    <tr>\n",
       "      <th>378847</th>\n",
       "      <td>After having bought some Imperial officers , h...</td>\n",
       "    </tr>\n",
       "    <tr>\n",
       "      <th>378848</th>\n",
       "      <td>He came back to a depopulated and devastated R...</td>\n",
       "    </tr>\n",
       "    <tr>\n",
       "      <th>378849</th>\n",
       "      <td>Subsequently the Pope followed a policy of sub...</td>\n",
       "    </tr>\n",
       "    <tr>\n",
       "      <th>378850</th>\n",
       "      <td>Pope Clement VII is remembered for having orde...</td>\n",
       "    </tr>\n",
       "    <tr>\n",
       "      <th>378851</th>\n",
       "      <td>Follow us on Facebook or subscribe to our dail...</td>\n",
       "    </tr>\n",
       "  </tbody>\n",
       "</table>\n",
       "<p>378852 rows × 1 columns</p>\n",
       "</div>"
      ],
      "text/plain": [
       "                                                     text\n",
       "0       A magazine supplement with an image of Adolf H...\n",
       "1       No law bans “ Mein Kampf ” in Germany , but th...\n",
       "2       The city that was the center of Adolf Hitler ’...\n",
       "3       What it does n’t have , nor has it since 1945 ...\n",
       "4       The latest attempt to publish excerpts fizzled...\n",
       "...                                                   ...\n",
       "378847  After having bought some Imperial officers , h...\n",
       "378848  He came back to a depopulated and devastated R...\n",
       "378849  Subsequently the Pope followed a policy of sub...\n",
       "378850  Pope Clement VII is remembered for having orde...\n",
       "378851  Follow us on Facebook or subscribe to our dail...\n",
       "\n",
       "[378852 rows x 1 columns]"
      ]
     },
     "execution_count": 9,
     "metadata": {},
     "output_type": "execute_result"
    }
   ],
   "source": [
    "df_openwebtext10['is_sentence'] = df_openwebtext10['text'].apply(is_sentence)\n",
    "df_openwebtext10 = df_openwebtext10[df_openwebtext10['is_sentence'] != 'Not sentence']\n",
    "df_openwebtext10['Complete'] = df_openwebtext10['text'].apply(is_complete)\n",
    "df_openwebtext10 = df_openwebtext10[df_openwebtext10['Complete'] != 'Not complete']\n",
    "df_openwebtext10['text'] = df_openwebtext10['text'].apply(minus_two_symbols)\n",
    "df_openwebtext10 = df_openwebtext10.drop(columns=['is_sentence', 'Complete'])\n",
    "df_openwebtext10 = df_openwebtext10.reset_index(drop=True)\n",
    "df_openwebtext10"
   ]
  },
  {
   "cell_type": "code",
   "execution_count": 10,
   "metadata": {
    "id": "dva9g5MpWnh4"
   },
   "outputs": [],
   "source": [
    "df_openwebtext10.to_csv('datasets/openwebtext_10k_sent_clean.csv', index=False)"
   ]
  }
 ],
 "metadata": {
  "accelerator": "GPU",
  "colab": {
   "provenance": []
  },
  "gpuClass": "premium",
  "kernelspec": {
   "display_name": "Python 3 (ipykernel)",
   "language": "python",
   "name": "python3"
  },
  "language_info": {
   "codemirror_mode": {
    "name": "ipython",
    "version": 3
   },
   "file_extension": ".py",
   "mimetype": "text/x-python",
   "name": "python",
   "nbconvert_exporter": "python",
   "pygments_lexer": "ipython3",
   "version": "3.9.12"
  }
 },
 "nbformat": 4,
 "nbformat_minor": 1
}
