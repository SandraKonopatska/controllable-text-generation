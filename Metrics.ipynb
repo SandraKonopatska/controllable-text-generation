{
 "cells": [
  {
   "cell_type": "code",
   "execution_count": 31,
   "id": "654b343c",
   "metadata": {},
   "outputs": [],
   "source": [
    "import pandas as pd\n",
    "import spacy\n",
    "from evaluate import load\n",
    "import seaborn as sns\n",
    "import matplotlib.pyplot as plt\n",
    "# import mauve\n",
    "import nltk\n",
    "import numpy as np\n",
    "from transformers import AutoModelForSequenceClassification\n",
    "from transformers import TFAutoModelForSequenceClassification\n",
    "from transformers import AutoTokenizer\n",
    "from scipy.special import softmax\n",
    "import csv\n",
    "import urllib.request\n",
    "from nltk import word_tokenize, pos_tag\n",
    "nlp = spacy.load(\"en_core_web_sm\")"
   ]
  },
  {
   "cell_type": "code",
   "execution_count": 167,
   "id": "f9ca06f5",
   "metadata": {},
   "outputs": [
    {
     "data": {
      "text/html": [
       "<div>\n",
       "<style scoped>\n",
       "    .dataframe tbody tr th:only-of-type {\n",
       "        vertical-align: middle;\n",
       "    }\n",
       "\n",
       "    .dataframe tbody tr th {\n",
       "        vertical-align: top;\n",
       "    }\n",
       "\n",
       "    .dataframe thead th {\n",
       "        text-align: right;\n",
       "    }\n",
       "</style>\n",
       "<table border=\"1\" class=\"dataframe\">\n",
       "  <thead>\n",
       "    <tr style=\"text-align: right;\">\n",
       "      <th></th>\n",
       "      <th>text</th>\n",
       "      <th>length</th>\n",
       "    </tr>\n",
       "  </thead>\n",
       "  <tbody>\n",
       "    <tr>\n",
       "      <th>0</th>\n",
       "      <td>It can not be read as this story ends, and mus...</td>\n",
       "      <td>46</td>\n",
       "    </tr>\n",
       "    <tr>\n",
       "      <th>1</th>\n",
       "      <td>\" Ms Collins said she was told when she woke s...</td>\n",
       "      <td>19</td>\n",
       "    </tr>\n",
       "    <tr>\n",
       "      <th>2</th>\n",
       "      <td>As they ’d gone into the thickets of pictures ...</td>\n",
       "      <td>59</td>\n",
       "    </tr>\n",
       "    <tr>\n",
       "      <th>3</th>\n",
       "      <td>Ties that have been around for decades have pr...</td>\n",
       "      <td>28</td>\n",
       "    </tr>\n",
       "    <tr>\n",
       "      <th>4</th>\n",
       "      <td>Ultimately, starting the Giants ’ offseason pr...</td>\n",
       "      <td>31</td>\n",
       "    </tr>\n",
       "    <tr>\n",
       "      <th>...</th>\n",
       "      <td>...</td>\n",
       "      <td>...</td>\n",
       "    </tr>\n",
       "    <tr>\n",
       "      <th>1995</th>\n",
       "      <td>At another point, he said : “ That sounds like...</td>\n",
       "      <td>24</td>\n",
       "    </tr>\n",
       "    <tr>\n",
       "      <th>1996</th>\n",
       "      <td>The US invaded the Hague Convention of Human R...</td>\n",
       "      <td>10</td>\n",
       "    </tr>\n",
       "    <tr>\n",
       "      <th>1997</th>\n",
       "      <td>Deep learning approaches have successfully fos...</td>\n",
       "      <td>20</td>\n",
       "    </tr>\n",
       "    <tr>\n",
       "      <th>1998</th>\n",
       "      <td>These films will feature 16 - bit cinematograp...</td>\n",
       "      <td>26</td>\n",
       "    </tr>\n",
       "    <tr>\n",
       "      <th>1999</th>\n",
       "      <td>She was set on a path that worked, but only wi...</td>\n",
       "      <td>24</td>\n",
       "    </tr>\n",
       "  </tbody>\n",
       "</table>\n",
       "<p>2000 rows × 2 columns</p>\n",
       "</div>"
      ],
      "text/plain": [
       "                                                   text  length\n",
       "0     It can not be read as this story ends, and mus...      46\n",
       "1     \" Ms Collins said she was told when she woke s...      19\n",
       "2     As they ’d gone into the thickets of pictures ...      59\n",
       "3     Ties that have been around for decades have pr...      28\n",
       "4     Ultimately, starting the Giants ’ offseason pr...      31\n",
       "...                                                 ...     ...\n",
       "1995  At another point, he said : “ That sounds like...      24\n",
       "1996  The US invaded the Hague Convention of Human R...      10\n",
       "1997  Deep learning approaches have successfully fos...      20\n",
       "1998  These films will feature 16 - bit cinematograp...      26\n",
       "1999  She was set on a path that worked, but only wi...      24\n",
       "\n",
       "[2000 rows x 2 columns]"
      ]
     },
     "execution_count": 167,
     "metadata": {},
     "output_type": "execute_result"
    }
   ],
   "source": [
    "df_generation = pd.read_csv('datasets/Generation_results/df_len2000.csv')\n",
    "df_generation"
   ]
  },
  {
   "cell_type": "code",
   "execution_count": 192,
   "id": "73b97b67",
   "metadata": {},
   "outputs": [
    {
     "data": {
      "text/html": [
       "<div>\n",
       "<style scoped>\n",
       "    .dataframe tbody tr th:only-of-type {\n",
       "        vertical-align: middle;\n",
       "    }\n",
       "\n",
       "    .dataframe tbody tr th {\n",
       "        vertical-align: top;\n",
       "    }\n",
       "\n",
       "    .dataframe thead th {\n",
       "        text-align: right;\n",
       "    }\n",
       "</style>\n",
       "<table border=\"1\" class=\"dataframe\">\n",
       "  <thead>\n",
       "    <tr style=\"text-align: right;\">\n",
       "      <th></th>\n",
       "      <th>text</th>\n",
       "      <th>length</th>\n",
       "    </tr>\n",
       "  </thead>\n",
       "  <tbody>\n",
       "    <tr>\n",
       "      <th>0</th>\n",
       "      <td>The sun sets, painting the sky orange.</td>\n",
       "      <td>7</td>\n",
       "    </tr>\n",
       "    <tr>\n",
       "      <th>1</th>\n",
       "      <td>She smiled, her eyes sparkling.</td>\n",
       "      <td>5</td>\n",
       "    </tr>\n",
       "    <tr>\n",
       "      <th>2</th>\n",
       "      <td>The waves crashed against the rocks as seagull...</td>\n",
       "      <td>10</td>\n",
       "    </tr>\n",
       "    <tr>\n",
       "      <th>3</th>\n",
       "      <td>The moonlight danced upon the shimmering lake'...</td>\n",
       "      <td>8</td>\n",
       "    </tr>\n",
       "    <tr>\n",
       "      <th>4</th>\n",
       "      <td>The autumn leaves whispered secrets in the bre...</td>\n",
       "      <td>7</td>\n",
       "    </tr>\n",
       "    <tr>\n",
       "      <th>...</th>\n",
       "      <td>...</td>\n",
       "      <td>...</td>\n",
       "    </tr>\n",
       "    <tr>\n",
       "      <th>141</th>\n",
       "      <td>As the morning sun painted the sky in hues of ...</td>\n",
       "      <td>65</td>\n",
       "    </tr>\n",
       "    <tr>\n",
       "      <th>142</th>\n",
       "      <td>In the realm of imagination, where dreams take...</td>\n",
       "      <td>70</td>\n",
       "    </tr>\n",
       "    <tr>\n",
       "      <th>143</th>\n",
       "      <td>In the tapestry of life, we are all interconne...</td>\n",
       "      <td>73</td>\n",
       "    </tr>\n",
       "    <tr>\n",
       "      <th>144</th>\n",
       "      <td>In the vast expanse of the universe, our tiny ...</td>\n",
       "      <td>78</td>\n",
       "    </tr>\n",
       "    <tr>\n",
       "      <th>145</th>\n",
       "      <td>In the quiet stillness of the early morning, t...</td>\n",
       "      <td>75</td>\n",
       "    </tr>\n",
       "  </tbody>\n",
       "</table>\n",
       "<p>146 rows × 2 columns</p>\n",
       "</div>"
      ],
      "text/plain": [
       "                                                  text  length\n",
       "0               The sun sets, painting the sky orange.       7\n",
       "1                      She smiled, her eyes sparkling.       5\n",
       "2    The waves crashed against the rocks as seagull...      10\n",
       "3    The moonlight danced upon the shimmering lake'...       8\n",
       "4    The autumn leaves whispered secrets in the bre...       7\n",
       "..                                                 ...     ...\n",
       "141  As the morning sun painted the sky in hues of ...      65\n",
       "142  In the realm of imagination, where dreams take...      70\n",
       "143  In the tapestry of life, we are all interconne...      73\n",
       "144  In the vast expanse of the universe, our tiny ...      78\n",
       "145  In the quiet stillness of the early morning, t...      75\n",
       "\n",
       "[146 rows x 2 columns]"
      ]
     },
     "execution_count": 192,
     "metadata": {},
     "output_type": "execute_result"
    }
   ],
   "source": [
    "df_chatgpt = pd.read_csv('datasets/Generation_results/df_chat_len2.csv')\n",
    "df_chatgpt"
   ]
  },
  {
   "cell_type": "code",
   "execution_count": 3,
   "id": "6fc977ae",
   "metadata": {},
   "outputs": [],
   "source": [
    "df_train = pd.read_csv('../230503_ucu_materials/data/train.csv')"
   ]
  },
  {
   "cell_type": "code",
   "execution_count": 171,
   "id": "c05ecde4",
   "metadata": {},
   "outputs": [],
   "source": [
    "def preprocess(sentence):\n",
    "    doc = nlp(sentence)\n",
    "    string = ''\n",
    "    for token in doc:\n",
    "        string += token.text\n",
    "        string += ' '\n",
    "    return string[:-1]"
   ]
  },
  {
   "cell_type": "code",
   "execution_count": 172,
   "id": "20d7f975",
   "metadata": {},
   "outputs": [],
   "source": [
    "df_generation['text'] = df_generation['text'].apply(preprocess)"
   ]
  },
  {
   "cell_type": "code",
   "execution_count": 173,
   "id": "9155d074",
   "metadata": {},
   "outputs": [],
   "source": [
    "sns.set(style='darkgrid')"
   ]
  },
  {
   "cell_type": "markdown",
   "id": "8de22a1f",
   "metadata": {},
   "source": [
    "# 1. Control metrics"
   ]
  },
  {
   "cell_type": "code",
   "execution_count": 106,
   "id": "8a48c77f",
   "metadata": {},
   "outputs": [],
   "source": [
    "def part_of_speech(sentence):\n",
    "  pos = []\n",
    "  doc = nlp(sentence)\n",
    "  for token in doc:\n",
    "    pos.append(token.pos_)\n",
    "  return pos"
   ]
  },
  {
   "cell_type": "code",
   "execution_count": 112,
   "id": "9c76e7af",
   "metadata": {},
   "outputs": [],
   "source": [
    "def preprocess_sent(text):\n",
    "    new_text = []\n",
    " \n",
    " \n",
    "    for t in text.split(\" \"):\n",
    "        t = '@user' if t.startswith('@') and len(t) > 1 else t\n",
    "        t = 'http' if t.startswith('http') else t\n",
    "        new_text.append(t)\n",
    "    return \" \".join(new_text)"
   ]
  },
  {
   "cell_type": "code",
   "execution_count": 114,
   "id": "24ec0d1e",
   "metadata": {},
   "outputs": [],
   "source": [
    "task='sentiment'\n",
    "MODEL = f\"cardiffnlp/twitter-roberta-base-{task}\"\n",
    "\n",
    "tokenizer = AutoTokenizer.from_pretrained(MODEL)\n",
    "\n",
    "labels=[]\n",
    "mapping_link = f\"https://raw.githubusercontent.com/cardiffnlp/tweeteval/main/datasets/{task}/mapping.txt\"\n",
    "with urllib.request.urlopen(mapping_link) as f:\n",
    "    html = f.read().decode('utf-8').split(\"\\n\")\n",
    "    csvreader = csv.reader(html, delimiter='\\t')\n",
    "labels = [row[1] for row in csvreader if len(row) > 1]\n",
    "\n",
    "model = AutoModelForSequenceClassification.from_pretrained(MODEL)\n",
    "model.save_pretrained(MODEL)"
   ]
  },
  {
   "cell_type": "code",
   "execution_count": 115,
   "id": "af2438f7",
   "metadata": {},
   "outputs": [],
   "source": [
    "def sentiment_analysis(sentence):\n",
    "    sentence = preprocess_sent(sentence)\n",
    "    encoded_input = tokenizer(sentence, return_tensors='pt')\n",
    "    output = model(**encoded_input)\n",
    "    scores = output[0][0].detach().numpy()\n",
    "    scores = softmax(scores) \n",
    "    return np.argmax(scores)"
   ]
  },
  {
   "cell_type": "code",
   "execution_count": 198,
   "id": "cdd0b4cb",
   "metadata": {},
   "outputs": [],
   "source": [
    "def tense_detect(sentence):\n",
    "  text = word_tokenize(sentence)\n",
    "  tagged = pos_tag(text)\n",
    "    \n",
    "  verb_tags = ['MD','MDF',\n",
    "              'BE','BEG','BEN','BED','BEDZ','BEZ','BEM','BER',\n",
    "              'DO','DOD','DOZ',\n",
    "              'HV','HVG','HVN','HVD','HVZ',\n",
    "              'VB','VBG','VBN','VBD','VBZ',\n",
    "              'SH',\n",
    "              'TO',\n",
    "              'JJ' # maybe?\n",
    "              ]\n",
    "    \n",
    "  verb_phrase = []\n",
    "  for item in tagged:\n",
    "    if item[1] in verb_tags:\n",
    "        verb_phrase.append(item)\n",
    "  if (verb_phrase == []):\n",
    "    return({'Not detected'})\n",
    "\n",
    "  grammar = r\"\"\"\n",
    "    future:                    {<MD><VB><VBN><VBG>}\n",
    "    future:                    {<MD><VB><VBG>}\n",
    "    future:                    {<MD><VB><VBN>}\n",
    "    past:                      {<VBD><VBN><VBG>}\n",
    "    present:                   {<VBP|VBZ><VBN><VBG>}\n",
    "    future:                    {<MD><VB>}\n",
    "    past:                      {<VBD><VBG>}\n",
    "    past:                      {<VBD><VBN>}\n",
    "    present:                   {<VBZ|VBP><VBG>}\n",
    "    present:                   {<VBZ|VBP><VBN>}\n",
    "    past:                      {<VBD>}\n",
    "    present:                   {<VBZ>|<VBP>}\n",
    "  \"\"\"\n",
    "\n",
    "  cp = nltk.RegexpParser(grammar)\n",
    "  result = cp.parse(verb_phrase)\n",
    "#  display(result)    \n",
    "                      \n",
    "  tenses_set = set()\n",
    "  for node in result:\n",
    "    if type(node) is nltk.tree.Tree:\n",
    "        tenses_set.add(node.label())\n",
    "  \n",
    "  return tenses_set"
   ]
  },
  {
   "cell_type": "code",
   "execution_count": 107,
   "id": "f99e5b1f",
   "metadata": {},
   "outputs": [
    {
     "data": {
      "text/html": [
       "<div>\n",
       "<style scoped>\n",
       "    .dataframe tbody tr th:only-of-type {\n",
       "        vertical-align: middle;\n",
       "    }\n",
       "\n",
       "    .dataframe tbody tr th {\n",
       "        vertical-align: top;\n",
       "    }\n",
       "\n",
       "    .dataframe thead th {\n",
       "        text-align: right;\n",
       "    }\n",
       "</style>\n",
       "<table border=\"1\" class=\"dataframe\">\n",
       "  <thead>\n",
       "    <tr style=\"text-align: right;\">\n",
       "      <th></th>\n",
       "      <th>text</th>\n",
       "      <th>pos</th>\n",
       "      <th>pos_check</th>\n",
       "    </tr>\n",
       "  </thead>\n",
       "  <tbody>\n",
       "    <tr>\n",
       "      <th>0</th>\n",
       "      <td>He loves his adorable dog and ca n't wait to p...</td>\n",
       "      <td>PRON VERB ADJ PRON AUX ADJ PART VERB ADV ADV A...</td>\n",
       "      <td>[PRON, VERB, PRON, ADJ, NOUN, CCONJ, AUX, PART...</td>\n",
       "    </tr>\n",
       "    <tr>\n",
       "      <th>1</th>\n",
       "      <td>She is excitedly singing along to the beautifu...</td>\n",
       "      <td>PRON VERB ADJ PRON AUX ADJ PART VERB ADV ADV A...</td>\n",
       "      <td>[PRON, AUX, ADV, VERB, ADP, ADP, DET, ADV, VER...</td>\n",
       "    </tr>\n",
       "    <tr>\n",
       "      <th>2</th>\n",
       "      <td>They were genuinely surprised when the expertl...</td>\n",
       "      <td>PRON VERB ADJ PRON AUX ADJ PART VERB ADV ADV A...</td>\n",
       "      <td>[PRON, AUX, ADV, ADJ, SCONJ, DET, ADV, ADJ, NO...</td>\n",
       "    </tr>\n",
       "    <tr>\n",
       "      <th>3</th>\n",
       "      <td>I am eagerly looking forward to exploring the ...</td>\n",
       "      <td>PRON VERB ADJ PRON AUX ADJ PART VERB ADV ADV A...</td>\n",
       "      <td>[PRON, AUX, ADV, VERB, ADV, ADP, VERB, DET, AD...</td>\n",
       "    </tr>\n",
       "    <tr>\n",
       "      <th>4</th>\n",
       "      <td>We were happily strolling through the bustling...</td>\n",
       "      <td>PRON VERB ADJ PRON AUX ADJ PART VERB ADV ADV A...</td>\n",
       "      <td>[PRON, AUX, ADV, VERB, ADP, DET, ADJ, NOUN, NO...</td>\n",
       "    </tr>\n",
       "    <tr>\n",
       "      <th>5</th>\n",
       "      <td>Two ca n't be and should n't be in charge of y...</td>\n",
       "      <td>NUM AUX PART VERB PART AUX ADP PRON NOUN PUNCT</td>\n",
       "      <td>[NUM, AUX, PART, AUX, CCONJ, AUX, PART, AUX, A...</td>\n",
       "    </tr>\n",
       "    <tr>\n",
       "      <th>6</th>\n",
       "      <td>Three will not , and can not , dictate your fu...</td>\n",
       "      <td>NUM AUX PART VERB PART AUX ADP PRON NOUN PUNCT</td>\n",
       "      <td>[NUM, AUX, PART, PUNCT, CCONJ, AUX, PART, PUNC...</td>\n",
       "    </tr>\n",
       "    <tr>\n",
       "      <th>7</th>\n",
       "      <td>Four must not let others determine your self -...</td>\n",
       "      <td>NUM AUX PART VERB PART AUX ADP PRON NOUN PUNCT</td>\n",
       "      <td>[NUM, AUX, PART, VERB, NOUN, VERB, PRON, NOUN,...</td>\n",
       "    </tr>\n",
       "    <tr>\n",
       "      <th>8</th>\n",
       "      <td>Five should never let anyone belittle your ach...</td>\n",
       "      <td>NUM AUX PART VERB PART AUX ADP PRON NOUN PUNCT</td>\n",
       "      <td>[NUM, AUX, ADV, VERB, PRON, VERB, PRON, NOUN, ...</td>\n",
       "    </tr>\n",
       "    <tr>\n",
       "      <th>9</th>\n",
       "      <td>Six ought not to allow negativity to overshado...</td>\n",
       "      <td>NUM AUX PART VERB PART AUX ADP PRON NOUN PUNCT</td>\n",
       "      <td>[NUM, AUX, PART, PART, VERB, NOUN, PART, VERB,...</td>\n",
       "    </tr>\n",
       "    <tr>\n",
       "      <th>10</th>\n",
       "      <td>The majestic mountains are calling and I must ...</td>\n",
       "      <td>DET ADJ NOUN AUX VERB ADP NUM ADP DET ADJ NOUN...</td>\n",
       "      <td>[DET, ADJ, NOUN, AUX, VERB, CCONJ, PRON, AUX, ...</td>\n",
       "    </tr>\n",
       "    <tr>\n",
       "      <th>11</th>\n",
       "      <td>A beautiful sunset paints the sky with vibrant...</td>\n",
       "      <td>DET ADJ NOUN AUX VERB ADP NUM ADP DET ADJ NOUN...</td>\n",
       "      <td>[DET, ADJ, NOUN, NOUN, DET, NOUN, ADP, ADJ, NO...</td>\n",
       "    </tr>\n",
       "    <tr>\n",
       "      <th>12</th>\n",
       "      <td>The curious cat chased a group of playful squi...</td>\n",
       "      <td>DET ADJ NOUN AUX VERB ADP NUM ADP DET ADJ NOUN...</td>\n",
       "      <td>[DET, ADJ, NOUN, VERB, DET, NOUN, ADP, ADJ, NO...</td>\n",
       "    </tr>\n",
       "    <tr>\n",
       "      <th>13</th>\n",
       "      <td>An old book sat on a dusty shelf in the corner...</td>\n",
       "      <td>DET ADJ NOUN AUX VERB ADP NUM ADP DET ADJ NOUN...</td>\n",
       "      <td>[DET, ADJ, NOUN, VERB, ADP, DET, ADJ, NOUN, AD...</td>\n",
       "    </tr>\n",
       "    <tr>\n",
       "      <th>14</th>\n",
       "      <td>Early mornings bring serenity and calmness as ...</td>\n",
       "      <td>DET ADJ NOUN AUX VERB ADP NUM ADP DET ADJ NOUN...</td>\n",
       "      <td>[ADJ, NOUN, VERB, NOUN, CCONJ, NOUN, SCONJ, DE...</td>\n",
       "    </tr>\n",
       "    <tr>\n",
       "      <th>15</th>\n",
       "      <td>Quietly , as the night fell , she could no lon...</td>\n",
       "      <td>ADV SCONJ PRON AUX VERB ADJ NOUN ADV ADP NOUN ...</td>\n",
       "      <td>[ADV, PUNCT, SCONJ, DET, NOUN, VERB, PUNCT, PR...</td>\n",
       "    </tr>\n",
       "    <tr>\n",
       "      <th>16</th>\n",
       "      <td>Carefully , he deliberated whether he should t...</td>\n",
       "      <td>ADV SCONJ PRON AUX VERB ADJ NOUN ADV ADP NOUN ...</td>\n",
       "      <td>[ADV, PUNCT, PRON, VERB, SCONJ, PRON, AUX, VER...</td>\n",
       "    </tr>\n",
       "    <tr>\n",
       "      <th>17</th>\n",
       "      <td>Unexpectedly , they found themselves lost in a...</td>\n",
       "      <td>ADV SCONJ PRON AUX VERB ADJ NOUN ADV ADP NOUN ...</td>\n",
       "      <td>[ADV, PUNCT, PRON, VERB, PRON, VERB, ADP, DET,...</td>\n",
       "    </tr>\n",
       "    <tr>\n",
       "      <th>18</th>\n",
       "      <td>Gently , the breeze caressed the blooming flow...</td>\n",
       "      <td>ADV SCONJ PRON AUX VERB ADJ NOUN ADV ADP NOUN ...</td>\n",
       "      <td>[ADV, PUNCT, DET, NOUN, VERB, DET, VERB, NOUN,...</td>\n",
       "    </tr>\n",
       "    <tr>\n",
       "      <th>19</th>\n",
       "      <td>Swiftly , they ran towards the shimmering coas...</td>\n",
       "      <td>ADV SCONJ PRON AUX VERB ADJ NOUN ADV ADP NOUN ...</td>\n",
       "      <td>[ADV, PUNCT, PRON, VERB, ADP, DET, VERB, NOUN,...</td>\n",
       "    </tr>\n",
       "    <tr>\n",
       "      <th>20</th>\n",
       "      <td>John Smith . Although he can sing .</td>\n",
       "      <td>PROPN NOUN PUNCT SCONJ PRON AUX VERB PUNCT</td>\n",
       "      <td>[PROPN, PROPN, PUNCT, SCONJ, PRON, AUX, VERB, ...</td>\n",
       "    </tr>\n",
       "    <tr>\n",
       "      <th>21</th>\n",
       "      <td>Mary Johnson . While she does yoga .</td>\n",
       "      <td>PROPN NOUN PUNCT SCONJ PRON AUX VERB PUNCT</td>\n",
       "      <td>[PROPN, PROPN, PUNCT, SCONJ, PRON, VERB, NOUN,...</td>\n",
       "    </tr>\n",
       "    <tr>\n",
       "      <th>22</th>\n",
       "      <td>David Davis . Even though he loves to cook .</td>\n",
       "      <td>PROPN NOUN PUNCT SCONJ PRON AUX VERB PUNCT</td>\n",
       "      <td>[PROPN, PROPN, PUNCT, ADV, SCONJ, PRON, VERB, ...</td>\n",
       "    </tr>\n",
       "    <tr>\n",
       "      <th>23</th>\n",
       "      <td>Emily Evans . Though she enjoys painting .</td>\n",
       "      <td>PROPN NOUN PUNCT SCONJ PRON AUX VERB PUNCT</td>\n",
       "      <td>[PROPN, PROPN, PUNCT, SCONJ, PRON, VERB, VERB,...</td>\n",
       "    </tr>\n",
       "    <tr>\n",
       "      <th>24</th>\n",
       "      <td>Michael Miller . Despite his busy schedule .</td>\n",
       "      <td>PROPN NOUN PUNCT SCONJ PRON AUX VERB PUNCT</td>\n",
       "      <td>[PROPN, PROPN, PUNCT, SCONJ, PRON, ADJ, NOUN, ...</td>\n",
       "    </tr>\n",
       "    <tr>\n",
       "      <th>25</th>\n",
       "      <td>Carrots are delicious vegetables .</td>\n",
       "      <td>NOUN AUX VERB NOUN PUNCT</td>\n",
       "      <td>[NOUN, AUX, ADJ, NOUN, PUNCT]</td>\n",
       "    </tr>\n",
       "    <tr>\n",
       "      <th>26</th>\n",
       "      <td>Dogs bark loudly .</td>\n",
       "      <td>NOUN AUX VERB NOUN PUNCT</td>\n",
       "      <td>[NOUN, NOUN, ADV, PUNCT]</td>\n",
       "    </tr>\n",
       "    <tr>\n",
       "      <th>27</th>\n",
       "      <td>Books provide knowledge .</td>\n",
       "      <td>NOUN AUX VERB NOUN PUNCT</td>\n",
       "      <td>[NOUN, VERB, NOUN, PUNCT]</td>\n",
       "    </tr>\n",
       "    <tr>\n",
       "      <th>28</th>\n",
       "      <td>Rainbows appear after rain .</td>\n",
       "      <td>NOUN AUX VERB NOUN PUNCT</td>\n",
       "      <td>[NOUN, VERB, ADP, NOUN, PUNCT]</td>\n",
       "    </tr>\n",
       "    <tr>\n",
       "      <th>29</th>\n",
       "      <td>Stars twinkle at night .</td>\n",
       "      <td>NOUN AUX VERB NOUN PUNCT</td>\n",
       "      <td>[NOUN, VERB, ADP, NOUN, PUNCT]</td>\n",
       "    </tr>\n",
       "    <tr>\n",
       "      <th>30</th>\n",
       "      <td>Quickly , she would have been able to complete...</td>\n",
       "      <td>ADV PUNCT PRON AUX AUX VERB DET NOUN NOUN ADP ...</td>\n",
       "      <td>[ADV, PUNCT, PRON, AUX, AUX, AUX, ADJ, PART, V...</td>\n",
       "    </tr>\n",
       "    <tr>\n",
       "      <th>31</th>\n",
       "      <td>Carefully , they should have been handling the...</td>\n",
       "      <td>ADV PUNCT PRON AUX AUX VERB DET NOUN NOUN ADP ...</td>\n",
       "      <td>[ADV, PUNCT, PRON, AUX, AUX, AUX, VERB, DET, A...</td>\n",
       "    </tr>\n",
       "    <tr>\n",
       "      <th>32</th>\n",
       "      <td>Quietly , he might have observed the elusive w...</td>\n",
       "      <td>ADV PUNCT PRON AUX AUX VERB DET NOUN NOUN ADP ...</td>\n",
       "      <td>[ADV, PUNCT, PRON, AUX, AUX, VERB, DET, ADJ, N...</td>\n",
       "    </tr>\n",
       "    <tr>\n",
       "      <th>33</th>\n",
       "      <td>Happily , we could have celebrated the joyful ...</td>\n",
       "      <td>ADV PUNCT PRON AUX AUX VERB DET NOUN NOUN ADP ...</td>\n",
       "      <td>[ADV, PUNCT, PRON, AUX, AUX, VERB, DET, ADJ, N...</td>\n",
       "    </tr>\n",
       "    <tr>\n",
       "      <th>34</th>\n",
       "      <td>Patiently , I must have waited for the arrival...</td>\n",
       "      <td>ADV PUNCT PRON AUX AUX VERB DET NOUN NOUN ADP ...</td>\n",
       "      <td>[ADV, PUNCT, PRON, AUX, AUX, VERB, ADP, DET, N...</td>\n",
       "    </tr>\n",
       "    <tr>\n",
       "      <th>35</th>\n",
       "      <td>They can swim gracefully .</td>\n",
       "      <td>PRON AUX VERB DET NOUN ADV PUNCT</td>\n",
       "      <td>[PRON, AUX, VERB, ADV, PUNCT]</td>\n",
       "    </tr>\n",
       "    <tr>\n",
       "      <th>36</th>\n",
       "      <td>He will run swiftly .</td>\n",
       "      <td>PRON AUX VERB DET NOUN ADV PUNCT</td>\n",
       "      <td>[PRON, AUX, VERB, ADV, PUNCT]</td>\n",
       "    </tr>\n",
       "    <tr>\n",
       "      <th>37</th>\n",
       "      <td>She does dance beautifully .</td>\n",
       "      <td>PRON AUX VERB DET NOUN ADV PUNCT</td>\n",
       "      <td>[PRON, AUX, VERB, ADV, PUNCT]</td>\n",
       "    </tr>\n",
       "    <tr>\n",
       "      <th>38</th>\n",
       "      <td>I have read extensively .</td>\n",
       "      <td>PRON AUX VERB DET NOUN ADV PUNCT</td>\n",
       "      <td>[PRON, AUX, VERB, ADV, PUNCT]</td>\n",
       "    </tr>\n",
       "    <tr>\n",
       "      <th>39</th>\n",
       "      <td>We should study diligently .</td>\n",
       "      <td>PRON AUX VERB DET NOUN ADV PUNCT</td>\n",
       "      <td>[PRON, AUX, VERB, ADV, PUNCT]</td>\n",
       "    </tr>\n",
       "    <tr>\n",
       "      <th>40</th>\n",
       "      <td>Although she loves to travel , she has never b...</td>\n",
       "      <td>SCONJ PRON VERB DET NOUN ADP PROPN PUNCT PRON ...</td>\n",
       "      <td>[SCONJ, PRON, VERB, PART, VERB, PUNCT, PRON, A...</td>\n",
       "    </tr>\n",
       "    <tr>\n",
       "      <th>41</th>\n",
       "      <td>While he enjoys cooking , he rarely bakes dess...</td>\n",
       "      <td>SCONJ PRON VERB DET NOUN ADP PROPN PUNCT PRON ...</td>\n",
       "      <td>[SCONJ, PRON, VERB, VERB, PUNCT, PRON, ADV, VE...</td>\n",
       "    </tr>\n",
       "    <tr>\n",
       "      <th>42</th>\n",
       "      <td>Though they prefer tea , they occasionally dri...</td>\n",
       "      <td>SCONJ PRON VERB DET NOUN ADP PROPN PUNCT PRON ...</td>\n",
       "      <td>[SCONJ, PRON, VERB, NOUN, PUNCT, PRON, ADV, VE...</td>\n",
       "    </tr>\n",
       "    <tr>\n",
       "      <th>43</th>\n",
       "      <td>If I find a good book , I 'll spend hours read...</td>\n",
       "      <td>SCONJ PRON VERB DET NOUN ADP PROPN PUNCT PRON ...</td>\n",
       "      <td>[SCONJ, PRON, VERB, DET, ADJ, NOUN, PUNCT, PRO...</td>\n",
       "    </tr>\n",
       "    <tr>\n",
       "      <th>44</th>\n",
       "      <td>Unless we leave now , we might miss the train .</td>\n",
       "      <td>SCONJ PRON VERB DET NOUN ADP PROPN PUNCT PRON ...</td>\n",
       "      <td>[SCONJ, PRON, VERB, ADV, PUNCT, PRON, AUX, VER...</td>\n",
       "    </tr>\n",
       "    <tr>\n",
       "      <th>45</th>\n",
       "      <td>But they remained undeterred by the challengin...</td>\n",
       "      <td>CCONJ PRON NOUN ADP NOUN PUNCT NOUN AUX ADV AD...</td>\n",
       "      <td>[CCONJ, PRON, VERB, ADJ, ADP, DET, ADJ, NOUN, ...</td>\n",
       "    </tr>\n",
       "    <tr>\n",
       "      <th>46</th>\n",
       "      <td>And she tirelessly pursued her dreams despite ...</td>\n",
       "      <td>CCONJ PRON NOUN ADP NOUN PUNCT NOUN AUX ADV AD...</td>\n",
       "      <td>[CCONJ, PRON, ADV, VERB, PRON, NOUN, SCONJ, DE...</td>\n",
       "    </tr>\n",
       "    <tr>\n",
       "      <th>47</th>\n",
       "      <td>Or he bravely confronted his fears and emerged...</td>\n",
       "      <td>CCONJ PRON NOUN ADP NOUN PUNCT NOUN AUX ADV AD...</td>\n",
       "      <td>[CCONJ, PRON, ADV, VERB, PRON, NOUN, CCONJ, VE...</td>\n",
       "    </tr>\n",
       "    <tr>\n",
       "      <th>48</th>\n",
       "      <td>Yet we must not forget to take care of ourselv...</td>\n",
       "      <td>CCONJ PRON NOUN ADP NOUN PUNCT NOUN AUX ADV AD...</td>\n",
       "      <td>[CCONJ, PRON, AUX, PART, VERB, PART, VERB, NOU...</td>\n",
       "    </tr>\n",
       "    <tr>\n",
       "      <th>49</th>\n",
       "      <td>Nor did they hesitate to lend a helping hand t...</td>\n",
       "      <td>CCONJ PRON NOUN ADP NOUN PUNCT NOUN AUX ADV AD...</td>\n",
       "      <td>[CCONJ, AUX, PRON, VERB, PART, VERB, DET, VERB...</td>\n",
       "    </tr>\n",
       "  </tbody>\n",
       "</table>\n",
       "</div>"
      ],
      "text/plain": [
       "                                                 text  \\\n",
       "0   He loves his adorable dog and ca n't wait to p...   \n",
       "1   She is excitedly singing along to the beautifu...   \n",
       "2   They were genuinely surprised when the expertl...   \n",
       "3   I am eagerly looking forward to exploring the ...   \n",
       "4   We were happily strolling through the bustling...   \n",
       "5   Two ca n't be and should n't be in charge of y...   \n",
       "6   Three will not , and can not , dictate your fu...   \n",
       "7   Four must not let others determine your self -...   \n",
       "8   Five should never let anyone belittle your ach...   \n",
       "9   Six ought not to allow negativity to overshado...   \n",
       "10  The majestic mountains are calling and I must ...   \n",
       "11  A beautiful sunset paints the sky with vibrant...   \n",
       "12  The curious cat chased a group of playful squi...   \n",
       "13  An old book sat on a dusty shelf in the corner...   \n",
       "14  Early mornings bring serenity and calmness as ...   \n",
       "15  Quietly , as the night fell , she could no lon...   \n",
       "16  Carefully , he deliberated whether he should t...   \n",
       "17  Unexpectedly , they found themselves lost in a...   \n",
       "18  Gently , the breeze caressed the blooming flow...   \n",
       "19  Swiftly , they ran towards the shimmering coas...   \n",
       "20                John Smith . Although he can sing .   \n",
       "21               Mary Johnson . While she does yoga .   \n",
       "22       David Davis . Even though he loves to cook .   \n",
       "23         Emily Evans . Though she enjoys painting .   \n",
       "24       Michael Miller . Despite his busy schedule .   \n",
       "25                 Carrots are delicious vegetables .   \n",
       "26                                 Dogs bark loudly .   \n",
       "27                          Books provide knowledge .   \n",
       "28                       Rainbows appear after rain .   \n",
       "29                           Stars twinkle at night .   \n",
       "30  Quickly , she would have been able to complete...   \n",
       "31  Carefully , they should have been handling the...   \n",
       "32  Quietly , he might have observed the elusive w...   \n",
       "33  Happily , we could have celebrated the joyful ...   \n",
       "34  Patiently , I must have waited for the arrival...   \n",
       "35                         They can swim gracefully .   \n",
       "36                              He will run swiftly .   \n",
       "37                       She does dance beautifully .   \n",
       "38                          I have read extensively .   \n",
       "39                       We should study diligently .   \n",
       "40  Although she loves to travel , she has never b...   \n",
       "41  While he enjoys cooking , he rarely bakes dess...   \n",
       "42  Though they prefer tea , they occasionally dri...   \n",
       "43  If I find a good book , I 'll spend hours read...   \n",
       "44    Unless we leave now , we might miss the train .   \n",
       "45  But they remained undeterred by the challengin...   \n",
       "46  And she tirelessly pursued her dreams despite ...   \n",
       "47  Or he bravely confronted his fears and emerged...   \n",
       "48  Yet we must not forget to take care of ourselv...   \n",
       "49  Nor did they hesitate to lend a helping hand t...   \n",
       "\n",
       "                                                  pos  \\\n",
       "0   PRON VERB ADJ PRON AUX ADJ PART VERB ADV ADV A...   \n",
       "1   PRON VERB ADJ PRON AUX ADJ PART VERB ADV ADV A...   \n",
       "2   PRON VERB ADJ PRON AUX ADJ PART VERB ADV ADV A...   \n",
       "3   PRON VERB ADJ PRON AUX ADJ PART VERB ADV ADV A...   \n",
       "4   PRON VERB ADJ PRON AUX ADJ PART VERB ADV ADV A...   \n",
       "5      NUM AUX PART VERB PART AUX ADP PRON NOUN PUNCT   \n",
       "6      NUM AUX PART VERB PART AUX ADP PRON NOUN PUNCT   \n",
       "7      NUM AUX PART VERB PART AUX ADP PRON NOUN PUNCT   \n",
       "8      NUM AUX PART VERB PART AUX ADP PRON NOUN PUNCT   \n",
       "9      NUM AUX PART VERB PART AUX ADP PRON NOUN PUNCT   \n",
       "10  DET ADJ NOUN AUX VERB ADP NUM ADP DET ADJ NOUN...   \n",
       "11  DET ADJ NOUN AUX VERB ADP NUM ADP DET ADJ NOUN...   \n",
       "12  DET ADJ NOUN AUX VERB ADP NUM ADP DET ADJ NOUN...   \n",
       "13  DET ADJ NOUN AUX VERB ADP NUM ADP DET ADJ NOUN...   \n",
       "14  DET ADJ NOUN AUX VERB ADP NUM ADP DET ADJ NOUN...   \n",
       "15  ADV SCONJ PRON AUX VERB ADJ NOUN ADV ADP NOUN ...   \n",
       "16  ADV SCONJ PRON AUX VERB ADJ NOUN ADV ADP NOUN ...   \n",
       "17  ADV SCONJ PRON AUX VERB ADJ NOUN ADV ADP NOUN ...   \n",
       "18  ADV SCONJ PRON AUX VERB ADJ NOUN ADV ADP NOUN ...   \n",
       "19  ADV SCONJ PRON AUX VERB ADJ NOUN ADV ADP NOUN ...   \n",
       "20         PROPN NOUN PUNCT SCONJ PRON AUX VERB PUNCT   \n",
       "21         PROPN NOUN PUNCT SCONJ PRON AUX VERB PUNCT   \n",
       "22         PROPN NOUN PUNCT SCONJ PRON AUX VERB PUNCT   \n",
       "23         PROPN NOUN PUNCT SCONJ PRON AUX VERB PUNCT   \n",
       "24         PROPN NOUN PUNCT SCONJ PRON AUX VERB PUNCT   \n",
       "25                           NOUN AUX VERB NOUN PUNCT   \n",
       "26                           NOUN AUX VERB NOUN PUNCT   \n",
       "27                           NOUN AUX VERB NOUN PUNCT   \n",
       "28                           NOUN AUX VERB NOUN PUNCT   \n",
       "29                           NOUN AUX VERB NOUN PUNCT   \n",
       "30  ADV PUNCT PRON AUX AUX VERB DET NOUN NOUN ADP ...   \n",
       "31  ADV PUNCT PRON AUX AUX VERB DET NOUN NOUN ADP ...   \n",
       "32  ADV PUNCT PRON AUX AUX VERB DET NOUN NOUN ADP ...   \n",
       "33  ADV PUNCT PRON AUX AUX VERB DET NOUN NOUN ADP ...   \n",
       "34  ADV PUNCT PRON AUX AUX VERB DET NOUN NOUN ADP ...   \n",
       "35                   PRON AUX VERB DET NOUN ADV PUNCT   \n",
       "36                   PRON AUX VERB DET NOUN ADV PUNCT   \n",
       "37                   PRON AUX VERB DET NOUN ADV PUNCT   \n",
       "38                   PRON AUX VERB DET NOUN ADV PUNCT   \n",
       "39                   PRON AUX VERB DET NOUN ADV PUNCT   \n",
       "40  SCONJ PRON VERB DET NOUN ADP PROPN PUNCT PRON ...   \n",
       "41  SCONJ PRON VERB DET NOUN ADP PROPN PUNCT PRON ...   \n",
       "42  SCONJ PRON VERB DET NOUN ADP PROPN PUNCT PRON ...   \n",
       "43  SCONJ PRON VERB DET NOUN ADP PROPN PUNCT PRON ...   \n",
       "44  SCONJ PRON VERB DET NOUN ADP PROPN PUNCT PRON ...   \n",
       "45  CCONJ PRON NOUN ADP NOUN PUNCT NOUN AUX ADV AD...   \n",
       "46  CCONJ PRON NOUN ADP NOUN PUNCT NOUN AUX ADV AD...   \n",
       "47  CCONJ PRON NOUN ADP NOUN PUNCT NOUN AUX ADV AD...   \n",
       "48  CCONJ PRON NOUN ADP NOUN PUNCT NOUN AUX ADV AD...   \n",
       "49  CCONJ PRON NOUN ADP NOUN PUNCT NOUN AUX ADV AD...   \n",
       "\n",
       "                                            pos_check  \n",
       "0   [PRON, VERB, PRON, ADJ, NOUN, CCONJ, AUX, PART...  \n",
       "1   [PRON, AUX, ADV, VERB, ADP, ADP, DET, ADV, VER...  \n",
       "2   [PRON, AUX, ADV, ADJ, SCONJ, DET, ADV, ADJ, NO...  \n",
       "3   [PRON, AUX, ADV, VERB, ADV, ADP, VERB, DET, AD...  \n",
       "4   [PRON, AUX, ADV, VERB, ADP, DET, ADJ, NOUN, NO...  \n",
       "5   [NUM, AUX, PART, AUX, CCONJ, AUX, PART, AUX, A...  \n",
       "6   [NUM, AUX, PART, PUNCT, CCONJ, AUX, PART, PUNC...  \n",
       "7   [NUM, AUX, PART, VERB, NOUN, VERB, PRON, NOUN,...  \n",
       "8   [NUM, AUX, ADV, VERB, PRON, VERB, PRON, NOUN, ...  \n",
       "9   [NUM, AUX, PART, PART, VERB, NOUN, PART, VERB,...  \n",
       "10  [DET, ADJ, NOUN, AUX, VERB, CCONJ, PRON, AUX, ...  \n",
       "11  [DET, ADJ, NOUN, NOUN, DET, NOUN, ADP, ADJ, NO...  \n",
       "12  [DET, ADJ, NOUN, VERB, DET, NOUN, ADP, ADJ, NO...  \n",
       "13  [DET, ADJ, NOUN, VERB, ADP, DET, ADJ, NOUN, AD...  \n",
       "14  [ADJ, NOUN, VERB, NOUN, CCONJ, NOUN, SCONJ, DE...  \n",
       "15  [ADV, PUNCT, SCONJ, DET, NOUN, VERB, PUNCT, PR...  \n",
       "16  [ADV, PUNCT, PRON, VERB, SCONJ, PRON, AUX, VER...  \n",
       "17  [ADV, PUNCT, PRON, VERB, PRON, VERB, ADP, DET,...  \n",
       "18  [ADV, PUNCT, DET, NOUN, VERB, DET, VERB, NOUN,...  \n",
       "19  [ADV, PUNCT, PRON, VERB, ADP, DET, VERB, NOUN,...  \n",
       "20  [PROPN, PROPN, PUNCT, SCONJ, PRON, AUX, VERB, ...  \n",
       "21  [PROPN, PROPN, PUNCT, SCONJ, PRON, VERB, NOUN,...  \n",
       "22  [PROPN, PROPN, PUNCT, ADV, SCONJ, PRON, VERB, ...  \n",
       "23  [PROPN, PROPN, PUNCT, SCONJ, PRON, VERB, VERB,...  \n",
       "24  [PROPN, PROPN, PUNCT, SCONJ, PRON, ADJ, NOUN, ...  \n",
       "25                      [NOUN, AUX, ADJ, NOUN, PUNCT]  \n",
       "26                           [NOUN, NOUN, ADV, PUNCT]  \n",
       "27                          [NOUN, VERB, NOUN, PUNCT]  \n",
       "28                     [NOUN, VERB, ADP, NOUN, PUNCT]  \n",
       "29                     [NOUN, VERB, ADP, NOUN, PUNCT]  \n",
       "30  [ADV, PUNCT, PRON, AUX, AUX, AUX, ADJ, PART, V...  \n",
       "31  [ADV, PUNCT, PRON, AUX, AUX, AUX, VERB, DET, A...  \n",
       "32  [ADV, PUNCT, PRON, AUX, AUX, VERB, DET, ADJ, N...  \n",
       "33  [ADV, PUNCT, PRON, AUX, AUX, VERB, DET, ADJ, N...  \n",
       "34  [ADV, PUNCT, PRON, AUX, AUX, VERB, ADP, DET, N...  \n",
       "35                      [PRON, AUX, VERB, ADV, PUNCT]  \n",
       "36                      [PRON, AUX, VERB, ADV, PUNCT]  \n",
       "37                      [PRON, AUX, VERB, ADV, PUNCT]  \n",
       "38                      [PRON, AUX, VERB, ADV, PUNCT]  \n",
       "39                      [PRON, AUX, VERB, ADV, PUNCT]  \n",
       "40  [SCONJ, PRON, VERB, PART, VERB, PUNCT, PRON, A...  \n",
       "41  [SCONJ, PRON, VERB, VERB, PUNCT, PRON, ADV, VE...  \n",
       "42  [SCONJ, PRON, VERB, NOUN, PUNCT, PRON, ADV, VE...  \n",
       "43  [SCONJ, PRON, VERB, DET, ADJ, NOUN, PUNCT, PRO...  \n",
       "44  [SCONJ, PRON, VERB, ADV, PUNCT, PRON, AUX, VER...  \n",
       "45  [CCONJ, PRON, VERB, ADJ, ADP, DET, ADJ, NOUN, ...  \n",
       "46  [CCONJ, PRON, ADV, VERB, PRON, NOUN, SCONJ, DE...  \n",
       "47  [CCONJ, PRON, ADV, VERB, PRON, NOUN, CCONJ, VE...  \n",
       "48  [CCONJ, PRON, AUX, PART, VERB, PART, VERB, NOU...  \n",
       "49  [CCONJ, AUX, PRON, VERB, PART, VERB, DET, VERB...  "
      ]
     },
     "execution_count": 107,
     "metadata": {},
     "output_type": "execute_result"
    }
   ],
   "source": [
    "df_generation['pos_check'] = df_generation['text'].apply(part_of_speech)\n",
    "# df_generation['sentiment_check'] = df_generation['text'].apply(sentiment_analysis)\n",
    "# df_generation['tense_check'] = df_generation['text'].apply(tense_detect)\n",
    "df_generation"
   ]
  },
  {
   "cell_type": "code",
   "execution_count": 108,
   "id": "31b57203",
   "metadata": {},
   "outputs": [
    {
     "data": {
      "text/html": [
       "<div>\n",
       "<style scoped>\n",
       "    .dataframe tbody tr th:only-of-type {\n",
       "        vertical-align: middle;\n",
       "    }\n",
       "\n",
       "    .dataframe tbody tr th {\n",
       "        vertical-align: top;\n",
       "    }\n",
       "\n",
       "    .dataframe thead th {\n",
       "        text-align: right;\n",
       "    }\n",
       "</style>\n",
       "<table border=\"1\" class=\"dataframe\">\n",
       "  <thead>\n",
       "    <tr style=\"text-align: right;\">\n",
       "      <th></th>\n",
       "      <th>text</th>\n",
       "      <th>pos</th>\n",
       "      <th>pos_check</th>\n",
       "    </tr>\n",
       "  </thead>\n",
       "  <tbody>\n",
       "    <tr>\n",
       "      <th>0</th>\n",
       "      <td>He loves his adorable dog and ca n't wait to p...</td>\n",
       "      <td>[PRON, VERB, ADJ, PRON, AUX, ADJ, PART, VERB, ...</td>\n",
       "      <td>[PRON, VERB, PRON, ADJ, NOUN, CCONJ, AUX, PART...</td>\n",
       "    </tr>\n",
       "    <tr>\n",
       "      <th>1</th>\n",
       "      <td>She is excitedly singing along to the beautifu...</td>\n",
       "      <td>[PRON, VERB, ADJ, PRON, AUX, ADJ, PART, VERB, ...</td>\n",
       "      <td>[PRON, AUX, ADV, VERB, ADP, ADP, DET, ADV, VER...</td>\n",
       "    </tr>\n",
       "    <tr>\n",
       "      <th>2</th>\n",
       "      <td>They were genuinely surprised when the expertl...</td>\n",
       "      <td>[PRON, VERB, ADJ, PRON, AUX, ADJ, PART, VERB, ...</td>\n",
       "      <td>[PRON, AUX, ADV, ADJ, SCONJ, DET, ADV, ADJ, NO...</td>\n",
       "    </tr>\n",
       "    <tr>\n",
       "      <th>3</th>\n",
       "      <td>I am eagerly looking forward to exploring the ...</td>\n",
       "      <td>[PRON, VERB, ADJ, PRON, AUX, ADJ, PART, VERB, ...</td>\n",
       "      <td>[PRON, AUX, ADV, VERB, ADV, ADP, VERB, DET, AD...</td>\n",
       "    </tr>\n",
       "    <tr>\n",
       "      <th>4</th>\n",
       "      <td>We were happily strolling through the bustling...</td>\n",
       "      <td>[PRON, VERB, ADJ, PRON, AUX, ADJ, PART, VERB, ...</td>\n",
       "      <td>[PRON, AUX, ADV, VERB, ADP, DET, ADJ, NOUN, NO...</td>\n",
       "    </tr>\n",
       "    <tr>\n",
       "      <th>5</th>\n",
       "      <td>Two ca n't be and should n't be in charge of y...</td>\n",
       "      <td>[NUM, AUX, PART, VERB, PART, AUX, ADP, PRON, N...</td>\n",
       "      <td>[NUM, AUX, PART, AUX, CCONJ, AUX, PART, AUX, A...</td>\n",
       "    </tr>\n",
       "    <tr>\n",
       "      <th>6</th>\n",
       "      <td>Three will not , and can not , dictate your fu...</td>\n",
       "      <td>[NUM, AUX, PART, VERB, PART, AUX, ADP, PRON, N...</td>\n",
       "      <td>[NUM, AUX, PART, PUNCT, CCONJ, AUX, PART, PUNC...</td>\n",
       "    </tr>\n",
       "    <tr>\n",
       "      <th>7</th>\n",
       "      <td>Four must not let others determine your self -...</td>\n",
       "      <td>[NUM, AUX, PART, VERB, PART, AUX, ADP, PRON, N...</td>\n",
       "      <td>[NUM, AUX, PART, VERB, NOUN, VERB, PRON, NOUN,...</td>\n",
       "    </tr>\n",
       "    <tr>\n",
       "      <th>8</th>\n",
       "      <td>Five should never let anyone belittle your ach...</td>\n",
       "      <td>[NUM, AUX, PART, VERB, PART, AUX, ADP, PRON, N...</td>\n",
       "      <td>[NUM, AUX, ADV, VERB, PRON, VERB, PRON, NOUN, ...</td>\n",
       "    </tr>\n",
       "    <tr>\n",
       "      <th>9</th>\n",
       "      <td>Six ought not to allow negativity to overshado...</td>\n",
       "      <td>[NUM, AUX, PART, VERB, PART, AUX, ADP, PRON, N...</td>\n",
       "      <td>[NUM, AUX, PART, PART, VERB, NOUN, PART, VERB,...</td>\n",
       "    </tr>\n",
       "    <tr>\n",
       "      <th>10</th>\n",
       "      <td>The majestic mountains are calling and I must ...</td>\n",
       "      <td>[DET, ADJ, NOUN, AUX, VERB, ADP, NUM, ADP, DET...</td>\n",
       "      <td>[DET, ADJ, NOUN, AUX, VERB, CCONJ, PRON, AUX, ...</td>\n",
       "    </tr>\n",
       "    <tr>\n",
       "      <th>11</th>\n",
       "      <td>A beautiful sunset paints the sky with vibrant...</td>\n",
       "      <td>[DET, ADJ, NOUN, AUX, VERB, ADP, NUM, ADP, DET...</td>\n",
       "      <td>[DET, ADJ, NOUN, NOUN, DET, NOUN, ADP, ADJ, NO...</td>\n",
       "    </tr>\n",
       "    <tr>\n",
       "      <th>12</th>\n",
       "      <td>The curious cat chased a group of playful squi...</td>\n",
       "      <td>[DET, ADJ, NOUN, AUX, VERB, ADP, NUM, ADP, DET...</td>\n",
       "      <td>[DET, ADJ, NOUN, VERB, DET, NOUN, ADP, ADJ, NO...</td>\n",
       "    </tr>\n",
       "    <tr>\n",
       "      <th>13</th>\n",
       "      <td>An old book sat on a dusty shelf in the corner...</td>\n",
       "      <td>[DET, ADJ, NOUN, AUX, VERB, ADP, NUM, ADP, DET...</td>\n",
       "      <td>[DET, ADJ, NOUN, VERB, ADP, DET, ADJ, NOUN, AD...</td>\n",
       "    </tr>\n",
       "    <tr>\n",
       "      <th>14</th>\n",
       "      <td>Early mornings bring serenity and calmness as ...</td>\n",
       "      <td>[DET, ADJ, NOUN, AUX, VERB, ADP, NUM, ADP, DET...</td>\n",
       "      <td>[ADJ, NOUN, VERB, NOUN, CCONJ, NOUN, SCONJ, DE...</td>\n",
       "    </tr>\n",
       "    <tr>\n",
       "      <th>15</th>\n",
       "      <td>Quietly , as the night fell , she could no lon...</td>\n",
       "      <td>[ADV, SCONJ, PRON, AUX, VERB, ADJ, NOUN, ADV, ...</td>\n",
       "      <td>[ADV, PUNCT, SCONJ, DET, NOUN, VERB, PUNCT, PR...</td>\n",
       "    </tr>\n",
       "    <tr>\n",
       "      <th>16</th>\n",
       "      <td>Carefully , he deliberated whether he should t...</td>\n",
       "      <td>[ADV, SCONJ, PRON, AUX, VERB, ADJ, NOUN, ADV, ...</td>\n",
       "      <td>[ADV, PUNCT, PRON, VERB, SCONJ, PRON, AUX, VER...</td>\n",
       "    </tr>\n",
       "    <tr>\n",
       "      <th>17</th>\n",
       "      <td>Unexpectedly , they found themselves lost in a...</td>\n",
       "      <td>[ADV, SCONJ, PRON, AUX, VERB, ADJ, NOUN, ADV, ...</td>\n",
       "      <td>[ADV, PUNCT, PRON, VERB, PRON, VERB, ADP, DET,...</td>\n",
       "    </tr>\n",
       "    <tr>\n",
       "      <th>18</th>\n",
       "      <td>Gently , the breeze caressed the blooming flow...</td>\n",
       "      <td>[ADV, SCONJ, PRON, AUX, VERB, ADJ, NOUN, ADV, ...</td>\n",
       "      <td>[ADV, PUNCT, DET, NOUN, VERB, DET, VERB, NOUN,...</td>\n",
       "    </tr>\n",
       "    <tr>\n",
       "      <th>19</th>\n",
       "      <td>Swiftly , they ran towards the shimmering coas...</td>\n",
       "      <td>[ADV, SCONJ, PRON, AUX, VERB, ADJ, NOUN, ADV, ...</td>\n",
       "      <td>[ADV, PUNCT, PRON, VERB, ADP, DET, VERB, NOUN,...</td>\n",
       "    </tr>\n",
       "    <tr>\n",
       "      <th>20</th>\n",
       "      <td>John Smith . Although he can sing .</td>\n",
       "      <td>[PROPN, NOUN, PUNCT, SCONJ, PRON, AUX, VERB, P...</td>\n",
       "      <td>[PROPN, PROPN, PUNCT, SCONJ, PRON, AUX, VERB, ...</td>\n",
       "    </tr>\n",
       "    <tr>\n",
       "      <th>21</th>\n",
       "      <td>Mary Johnson . While she does yoga .</td>\n",
       "      <td>[PROPN, NOUN, PUNCT, SCONJ, PRON, AUX, VERB, P...</td>\n",
       "      <td>[PROPN, PROPN, PUNCT, SCONJ, PRON, VERB, NOUN,...</td>\n",
       "    </tr>\n",
       "    <tr>\n",
       "      <th>22</th>\n",
       "      <td>David Davis . Even though he loves to cook .</td>\n",
       "      <td>[PROPN, NOUN, PUNCT, SCONJ, PRON, AUX, VERB, P...</td>\n",
       "      <td>[PROPN, PROPN, PUNCT, ADV, SCONJ, PRON, VERB, ...</td>\n",
       "    </tr>\n",
       "    <tr>\n",
       "      <th>23</th>\n",
       "      <td>Emily Evans . Though she enjoys painting .</td>\n",
       "      <td>[PROPN, NOUN, PUNCT, SCONJ, PRON, AUX, VERB, P...</td>\n",
       "      <td>[PROPN, PROPN, PUNCT, SCONJ, PRON, VERB, VERB,...</td>\n",
       "    </tr>\n",
       "    <tr>\n",
       "      <th>24</th>\n",
       "      <td>Michael Miller . Despite his busy schedule .</td>\n",
       "      <td>[PROPN, NOUN, PUNCT, SCONJ, PRON, AUX, VERB, P...</td>\n",
       "      <td>[PROPN, PROPN, PUNCT, SCONJ, PRON, ADJ, NOUN, ...</td>\n",
       "    </tr>\n",
       "    <tr>\n",
       "      <th>25</th>\n",
       "      <td>Carrots are delicious vegetables .</td>\n",
       "      <td>[NOUN, AUX, VERB, NOUN, PUNCT]</td>\n",
       "      <td>[NOUN, AUX, ADJ, NOUN, PUNCT]</td>\n",
       "    </tr>\n",
       "    <tr>\n",
       "      <th>26</th>\n",
       "      <td>Dogs bark loudly .</td>\n",
       "      <td>[NOUN, AUX, VERB, NOUN, PUNCT]</td>\n",
       "      <td>[NOUN, NOUN, ADV, PUNCT]</td>\n",
       "    </tr>\n",
       "    <tr>\n",
       "      <th>27</th>\n",
       "      <td>Books provide knowledge .</td>\n",
       "      <td>[NOUN, AUX, VERB, NOUN, PUNCT]</td>\n",
       "      <td>[NOUN, VERB, NOUN, PUNCT]</td>\n",
       "    </tr>\n",
       "    <tr>\n",
       "      <th>28</th>\n",
       "      <td>Rainbows appear after rain .</td>\n",
       "      <td>[NOUN, AUX, VERB, NOUN, PUNCT]</td>\n",
       "      <td>[NOUN, VERB, ADP, NOUN, PUNCT]</td>\n",
       "    </tr>\n",
       "    <tr>\n",
       "      <th>29</th>\n",
       "      <td>Stars twinkle at night .</td>\n",
       "      <td>[NOUN, AUX, VERB, NOUN, PUNCT]</td>\n",
       "      <td>[NOUN, VERB, ADP, NOUN, PUNCT]</td>\n",
       "    </tr>\n",
       "    <tr>\n",
       "      <th>30</th>\n",
       "      <td>Quickly , she would have been able to complete...</td>\n",
       "      <td>[ADV, PUNCT, PRON, AUX, AUX, VERB, DET, NOUN, ...</td>\n",
       "      <td>[ADV, PUNCT, PRON, AUX, AUX, AUX, ADJ, PART, V...</td>\n",
       "    </tr>\n",
       "    <tr>\n",
       "      <th>31</th>\n",
       "      <td>Carefully , they should have been handling the...</td>\n",
       "      <td>[ADV, PUNCT, PRON, AUX, AUX, VERB, DET, NOUN, ...</td>\n",
       "      <td>[ADV, PUNCT, PRON, AUX, AUX, AUX, VERB, DET, A...</td>\n",
       "    </tr>\n",
       "    <tr>\n",
       "      <th>32</th>\n",
       "      <td>Quietly , he might have observed the elusive w...</td>\n",
       "      <td>[ADV, PUNCT, PRON, AUX, AUX, VERB, DET, NOUN, ...</td>\n",
       "      <td>[ADV, PUNCT, PRON, AUX, AUX, VERB, DET, ADJ, N...</td>\n",
       "    </tr>\n",
       "    <tr>\n",
       "      <th>33</th>\n",
       "      <td>Happily , we could have celebrated the joyful ...</td>\n",
       "      <td>[ADV, PUNCT, PRON, AUX, AUX, VERB, DET, NOUN, ...</td>\n",
       "      <td>[ADV, PUNCT, PRON, AUX, AUX, VERB, DET, ADJ, N...</td>\n",
       "    </tr>\n",
       "    <tr>\n",
       "      <th>34</th>\n",
       "      <td>Patiently , I must have waited for the arrival...</td>\n",
       "      <td>[ADV, PUNCT, PRON, AUX, AUX, VERB, DET, NOUN, ...</td>\n",
       "      <td>[ADV, PUNCT, PRON, AUX, AUX, VERB, ADP, DET, N...</td>\n",
       "    </tr>\n",
       "    <tr>\n",
       "      <th>35</th>\n",
       "      <td>They can swim gracefully .</td>\n",
       "      <td>[PRON, AUX, VERB, DET, NOUN, ADV, PUNCT]</td>\n",
       "      <td>[PRON, AUX, VERB, ADV, PUNCT]</td>\n",
       "    </tr>\n",
       "    <tr>\n",
       "      <th>36</th>\n",
       "      <td>He will run swiftly .</td>\n",
       "      <td>[PRON, AUX, VERB, DET, NOUN, ADV, PUNCT]</td>\n",
       "      <td>[PRON, AUX, VERB, ADV, PUNCT]</td>\n",
       "    </tr>\n",
       "    <tr>\n",
       "      <th>37</th>\n",
       "      <td>She does dance beautifully .</td>\n",
       "      <td>[PRON, AUX, VERB, DET, NOUN, ADV, PUNCT]</td>\n",
       "      <td>[PRON, AUX, VERB, ADV, PUNCT]</td>\n",
       "    </tr>\n",
       "    <tr>\n",
       "      <th>38</th>\n",
       "      <td>I have read extensively .</td>\n",
       "      <td>[PRON, AUX, VERB, DET, NOUN, ADV, PUNCT]</td>\n",
       "      <td>[PRON, AUX, VERB, ADV, PUNCT]</td>\n",
       "    </tr>\n",
       "    <tr>\n",
       "      <th>39</th>\n",
       "      <td>We should study diligently .</td>\n",
       "      <td>[PRON, AUX, VERB, DET, NOUN, ADV, PUNCT]</td>\n",
       "      <td>[PRON, AUX, VERB, ADV, PUNCT]</td>\n",
       "    </tr>\n",
       "    <tr>\n",
       "      <th>40</th>\n",
       "      <td>Although she loves to travel , she has never b...</td>\n",
       "      <td>[SCONJ, PRON, VERB, DET, NOUN, ADP, PROPN, PUN...</td>\n",
       "      <td>[SCONJ, PRON, VERB, PART, VERB, PUNCT, PRON, A...</td>\n",
       "    </tr>\n",
       "    <tr>\n",
       "      <th>41</th>\n",
       "      <td>While he enjoys cooking , he rarely bakes dess...</td>\n",
       "      <td>[SCONJ, PRON, VERB, DET, NOUN, ADP, PROPN, PUN...</td>\n",
       "      <td>[SCONJ, PRON, VERB, VERB, PUNCT, PRON, ADV, VE...</td>\n",
       "    </tr>\n",
       "    <tr>\n",
       "      <th>42</th>\n",
       "      <td>Though they prefer tea , they occasionally dri...</td>\n",
       "      <td>[SCONJ, PRON, VERB, DET, NOUN, ADP, PROPN, PUN...</td>\n",
       "      <td>[SCONJ, PRON, VERB, NOUN, PUNCT, PRON, ADV, VE...</td>\n",
       "    </tr>\n",
       "    <tr>\n",
       "      <th>43</th>\n",
       "      <td>If I find a good book , I 'll spend hours read...</td>\n",
       "      <td>[SCONJ, PRON, VERB, DET, NOUN, ADP, PROPN, PUN...</td>\n",
       "      <td>[SCONJ, PRON, VERB, DET, ADJ, NOUN, PUNCT, PRO...</td>\n",
       "    </tr>\n",
       "    <tr>\n",
       "      <th>44</th>\n",
       "      <td>Unless we leave now , we might miss the train .</td>\n",
       "      <td>[SCONJ, PRON, VERB, DET, NOUN, ADP, PROPN, PUN...</td>\n",
       "      <td>[SCONJ, PRON, VERB, ADV, PUNCT, PRON, AUX, VER...</td>\n",
       "    </tr>\n",
       "    <tr>\n",
       "      <th>45</th>\n",
       "      <td>But they remained undeterred by the challengin...</td>\n",
       "      <td>[CCONJ, PRON, NOUN, ADP, NOUN, PUNCT, NOUN, AU...</td>\n",
       "      <td>[CCONJ, PRON, VERB, ADJ, ADP, DET, ADJ, NOUN, ...</td>\n",
       "    </tr>\n",
       "    <tr>\n",
       "      <th>46</th>\n",
       "      <td>And she tirelessly pursued her dreams despite ...</td>\n",
       "      <td>[CCONJ, PRON, NOUN, ADP, NOUN, PUNCT, NOUN, AU...</td>\n",
       "      <td>[CCONJ, PRON, ADV, VERB, PRON, NOUN, SCONJ, DE...</td>\n",
       "    </tr>\n",
       "    <tr>\n",
       "      <th>47</th>\n",
       "      <td>Or he bravely confronted his fears and emerged...</td>\n",
       "      <td>[CCONJ, PRON, NOUN, ADP, NOUN, PUNCT, NOUN, AU...</td>\n",
       "      <td>[CCONJ, PRON, ADV, VERB, PRON, NOUN, CCONJ, VE...</td>\n",
       "    </tr>\n",
       "    <tr>\n",
       "      <th>48</th>\n",
       "      <td>Yet we must not forget to take care of ourselv...</td>\n",
       "      <td>[CCONJ, PRON, NOUN, ADP, NOUN, PUNCT, NOUN, AU...</td>\n",
       "      <td>[CCONJ, PRON, AUX, PART, VERB, PART, VERB, NOU...</td>\n",
       "    </tr>\n",
       "    <tr>\n",
       "      <th>49</th>\n",
       "      <td>Nor did they hesitate to lend a helping hand t...</td>\n",
       "      <td>[CCONJ, PRON, NOUN, ADP, NOUN, PUNCT, NOUN, AU...</td>\n",
       "      <td>[CCONJ, AUX, PRON, VERB, PART, VERB, DET, VERB...</td>\n",
       "    </tr>\n",
       "  </tbody>\n",
       "</table>\n",
       "</div>"
      ],
      "text/plain": [
       "                                                 text  \\\n",
       "0   He loves his adorable dog and ca n't wait to p...   \n",
       "1   She is excitedly singing along to the beautifu...   \n",
       "2   They were genuinely surprised when the expertl...   \n",
       "3   I am eagerly looking forward to exploring the ...   \n",
       "4   We were happily strolling through the bustling...   \n",
       "5   Two ca n't be and should n't be in charge of y...   \n",
       "6   Three will not , and can not , dictate your fu...   \n",
       "7   Four must not let others determine your self -...   \n",
       "8   Five should never let anyone belittle your ach...   \n",
       "9   Six ought not to allow negativity to overshado...   \n",
       "10  The majestic mountains are calling and I must ...   \n",
       "11  A beautiful sunset paints the sky with vibrant...   \n",
       "12  The curious cat chased a group of playful squi...   \n",
       "13  An old book sat on a dusty shelf in the corner...   \n",
       "14  Early mornings bring serenity and calmness as ...   \n",
       "15  Quietly , as the night fell , she could no lon...   \n",
       "16  Carefully , he deliberated whether he should t...   \n",
       "17  Unexpectedly , they found themselves lost in a...   \n",
       "18  Gently , the breeze caressed the blooming flow...   \n",
       "19  Swiftly , they ran towards the shimmering coas...   \n",
       "20                John Smith . Although he can sing .   \n",
       "21               Mary Johnson . While she does yoga .   \n",
       "22       David Davis . Even though he loves to cook .   \n",
       "23         Emily Evans . Though she enjoys painting .   \n",
       "24       Michael Miller . Despite his busy schedule .   \n",
       "25                 Carrots are delicious vegetables .   \n",
       "26                                 Dogs bark loudly .   \n",
       "27                          Books provide knowledge .   \n",
       "28                       Rainbows appear after rain .   \n",
       "29                           Stars twinkle at night .   \n",
       "30  Quickly , she would have been able to complete...   \n",
       "31  Carefully , they should have been handling the...   \n",
       "32  Quietly , he might have observed the elusive w...   \n",
       "33  Happily , we could have celebrated the joyful ...   \n",
       "34  Patiently , I must have waited for the arrival...   \n",
       "35                         They can swim gracefully .   \n",
       "36                              He will run swiftly .   \n",
       "37                       She does dance beautifully .   \n",
       "38                          I have read extensively .   \n",
       "39                       We should study diligently .   \n",
       "40  Although she loves to travel , she has never b...   \n",
       "41  While he enjoys cooking , he rarely bakes dess...   \n",
       "42  Though they prefer tea , they occasionally dri...   \n",
       "43  If I find a good book , I 'll spend hours read...   \n",
       "44    Unless we leave now , we might miss the train .   \n",
       "45  But they remained undeterred by the challengin...   \n",
       "46  And she tirelessly pursued her dreams despite ...   \n",
       "47  Or he bravely confronted his fears and emerged...   \n",
       "48  Yet we must not forget to take care of ourselv...   \n",
       "49  Nor did they hesitate to lend a helping hand t...   \n",
       "\n",
       "                                                  pos  \\\n",
       "0   [PRON, VERB, ADJ, PRON, AUX, ADJ, PART, VERB, ...   \n",
       "1   [PRON, VERB, ADJ, PRON, AUX, ADJ, PART, VERB, ...   \n",
       "2   [PRON, VERB, ADJ, PRON, AUX, ADJ, PART, VERB, ...   \n",
       "3   [PRON, VERB, ADJ, PRON, AUX, ADJ, PART, VERB, ...   \n",
       "4   [PRON, VERB, ADJ, PRON, AUX, ADJ, PART, VERB, ...   \n",
       "5   [NUM, AUX, PART, VERB, PART, AUX, ADP, PRON, N...   \n",
       "6   [NUM, AUX, PART, VERB, PART, AUX, ADP, PRON, N...   \n",
       "7   [NUM, AUX, PART, VERB, PART, AUX, ADP, PRON, N...   \n",
       "8   [NUM, AUX, PART, VERB, PART, AUX, ADP, PRON, N...   \n",
       "9   [NUM, AUX, PART, VERB, PART, AUX, ADP, PRON, N...   \n",
       "10  [DET, ADJ, NOUN, AUX, VERB, ADP, NUM, ADP, DET...   \n",
       "11  [DET, ADJ, NOUN, AUX, VERB, ADP, NUM, ADP, DET...   \n",
       "12  [DET, ADJ, NOUN, AUX, VERB, ADP, NUM, ADP, DET...   \n",
       "13  [DET, ADJ, NOUN, AUX, VERB, ADP, NUM, ADP, DET...   \n",
       "14  [DET, ADJ, NOUN, AUX, VERB, ADP, NUM, ADP, DET...   \n",
       "15  [ADV, SCONJ, PRON, AUX, VERB, ADJ, NOUN, ADV, ...   \n",
       "16  [ADV, SCONJ, PRON, AUX, VERB, ADJ, NOUN, ADV, ...   \n",
       "17  [ADV, SCONJ, PRON, AUX, VERB, ADJ, NOUN, ADV, ...   \n",
       "18  [ADV, SCONJ, PRON, AUX, VERB, ADJ, NOUN, ADV, ...   \n",
       "19  [ADV, SCONJ, PRON, AUX, VERB, ADJ, NOUN, ADV, ...   \n",
       "20  [PROPN, NOUN, PUNCT, SCONJ, PRON, AUX, VERB, P...   \n",
       "21  [PROPN, NOUN, PUNCT, SCONJ, PRON, AUX, VERB, P...   \n",
       "22  [PROPN, NOUN, PUNCT, SCONJ, PRON, AUX, VERB, P...   \n",
       "23  [PROPN, NOUN, PUNCT, SCONJ, PRON, AUX, VERB, P...   \n",
       "24  [PROPN, NOUN, PUNCT, SCONJ, PRON, AUX, VERB, P...   \n",
       "25                     [NOUN, AUX, VERB, NOUN, PUNCT]   \n",
       "26                     [NOUN, AUX, VERB, NOUN, PUNCT]   \n",
       "27                     [NOUN, AUX, VERB, NOUN, PUNCT]   \n",
       "28                     [NOUN, AUX, VERB, NOUN, PUNCT]   \n",
       "29                     [NOUN, AUX, VERB, NOUN, PUNCT]   \n",
       "30  [ADV, PUNCT, PRON, AUX, AUX, VERB, DET, NOUN, ...   \n",
       "31  [ADV, PUNCT, PRON, AUX, AUX, VERB, DET, NOUN, ...   \n",
       "32  [ADV, PUNCT, PRON, AUX, AUX, VERB, DET, NOUN, ...   \n",
       "33  [ADV, PUNCT, PRON, AUX, AUX, VERB, DET, NOUN, ...   \n",
       "34  [ADV, PUNCT, PRON, AUX, AUX, VERB, DET, NOUN, ...   \n",
       "35           [PRON, AUX, VERB, DET, NOUN, ADV, PUNCT]   \n",
       "36           [PRON, AUX, VERB, DET, NOUN, ADV, PUNCT]   \n",
       "37           [PRON, AUX, VERB, DET, NOUN, ADV, PUNCT]   \n",
       "38           [PRON, AUX, VERB, DET, NOUN, ADV, PUNCT]   \n",
       "39           [PRON, AUX, VERB, DET, NOUN, ADV, PUNCT]   \n",
       "40  [SCONJ, PRON, VERB, DET, NOUN, ADP, PROPN, PUN...   \n",
       "41  [SCONJ, PRON, VERB, DET, NOUN, ADP, PROPN, PUN...   \n",
       "42  [SCONJ, PRON, VERB, DET, NOUN, ADP, PROPN, PUN...   \n",
       "43  [SCONJ, PRON, VERB, DET, NOUN, ADP, PROPN, PUN...   \n",
       "44  [SCONJ, PRON, VERB, DET, NOUN, ADP, PROPN, PUN...   \n",
       "45  [CCONJ, PRON, NOUN, ADP, NOUN, PUNCT, NOUN, AU...   \n",
       "46  [CCONJ, PRON, NOUN, ADP, NOUN, PUNCT, NOUN, AU...   \n",
       "47  [CCONJ, PRON, NOUN, ADP, NOUN, PUNCT, NOUN, AU...   \n",
       "48  [CCONJ, PRON, NOUN, ADP, NOUN, PUNCT, NOUN, AU...   \n",
       "49  [CCONJ, PRON, NOUN, ADP, NOUN, PUNCT, NOUN, AU...   \n",
       "\n",
       "                                            pos_check  \n",
       "0   [PRON, VERB, PRON, ADJ, NOUN, CCONJ, AUX, PART...  \n",
       "1   [PRON, AUX, ADV, VERB, ADP, ADP, DET, ADV, VER...  \n",
       "2   [PRON, AUX, ADV, ADJ, SCONJ, DET, ADV, ADJ, NO...  \n",
       "3   [PRON, AUX, ADV, VERB, ADV, ADP, VERB, DET, AD...  \n",
       "4   [PRON, AUX, ADV, VERB, ADP, DET, ADJ, NOUN, NO...  \n",
       "5   [NUM, AUX, PART, AUX, CCONJ, AUX, PART, AUX, A...  \n",
       "6   [NUM, AUX, PART, PUNCT, CCONJ, AUX, PART, PUNC...  \n",
       "7   [NUM, AUX, PART, VERB, NOUN, VERB, PRON, NOUN,...  \n",
       "8   [NUM, AUX, ADV, VERB, PRON, VERB, PRON, NOUN, ...  \n",
       "9   [NUM, AUX, PART, PART, VERB, NOUN, PART, VERB,...  \n",
       "10  [DET, ADJ, NOUN, AUX, VERB, CCONJ, PRON, AUX, ...  \n",
       "11  [DET, ADJ, NOUN, NOUN, DET, NOUN, ADP, ADJ, NO...  \n",
       "12  [DET, ADJ, NOUN, VERB, DET, NOUN, ADP, ADJ, NO...  \n",
       "13  [DET, ADJ, NOUN, VERB, ADP, DET, ADJ, NOUN, AD...  \n",
       "14  [ADJ, NOUN, VERB, NOUN, CCONJ, NOUN, SCONJ, DE...  \n",
       "15  [ADV, PUNCT, SCONJ, DET, NOUN, VERB, PUNCT, PR...  \n",
       "16  [ADV, PUNCT, PRON, VERB, SCONJ, PRON, AUX, VER...  \n",
       "17  [ADV, PUNCT, PRON, VERB, PRON, VERB, ADP, DET,...  \n",
       "18  [ADV, PUNCT, DET, NOUN, VERB, DET, VERB, NOUN,...  \n",
       "19  [ADV, PUNCT, PRON, VERB, ADP, DET, VERB, NOUN,...  \n",
       "20  [PROPN, PROPN, PUNCT, SCONJ, PRON, AUX, VERB, ...  \n",
       "21  [PROPN, PROPN, PUNCT, SCONJ, PRON, VERB, NOUN,...  \n",
       "22  [PROPN, PROPN, PUNCT, ADV, SCONJ, PRON, VERB, ...  \n",
       "23  [PROPN, PROPN, PUNCT, SCONJ, PRON, VERB, VERB,...  \n",
       "24  [PROPN, PROPN, PUNCT, SCONJ, PRON, ADJ, NOUN, ...  \n",
       "25                      [NOUN, AUX, ADJ, NOUN, PUNCT]  \n",
       "26                           [NOUN, NOUN, ADV, PUNCT]  \n",
       "27                          [NOUN, VERB, NOUN, PUNCT]  \n",
       "28                     [NOUN, VERB, ADP, NOUN, PUNCT]  \n",
       "29                     [NOUN, VERB, ADP, NOUN, PUNCT]  \n",
       "30  [ADV, PUNCT, PRON, AUX, AUX, AUX, ADJ, PART, V...  \n",
       "31  [ADV, PUNCT, PRON, AUX, AUX, AUX, VERB, DET, A...  \n",
       "32  [ADV, PUNCT, PRON, AUX, AUX, VERB, DET, ADJ, N...  \n",
       "33  [ADV, PUNCT, PRON, AUX, AUX, VERB, DET, ADJ, N...  \n",
       "34  [ADV, PUNCT, PRON, AUX, AUX, VERB, ADP, DET, N...  \n",
       "35                      [PRON, AUX, VERB, ADV, PUNCT]  \n",
       "36                      [PRON, AUX, VERB, ADV, PUNCT]  \n",
       "37                      [PRON, AUX, VERB, ADV, PUNCT]  \n",
       "38                      [PRON, AUX, VERB, ADV, PUNCT]  \n",
       "39                      [PRON, AUX, VERB, ADV, PUNCT]  \n",
       "40  [SCONJ, PRON, VERB, PART, VERB, PUNCT, PRON, A...  \n",
       "41  [SCONJ, PRON, VERB, VERB, PUNCT, PRON, ADV, VE...  \n",
       "42  [SCONJ, PRON, VERB, NOUN, PUNCT, PRON, ADV, VE...  \n",
       "43  [SCONJ, PRON, VERB, DET, ADJ, NOUN, PUNCT, PRO...  \n",
       "44  [SCONJ, PRON, VERB, ADV, PUNCT, PRON, AUX, VER...  \n",
       "45  [CCONJ, PRON, VERB, ADJ, ADP, DET, ADJ, NOUN, ...  \n",
       "46  [CCONJ, PRON, ADV, VERB, PRON, NOUN, SCONJ, DE...  \n",
       "47  [CCONJ, PRON, ADV, VERB, PRON, NOUN, CCONJ, VE...  \n",
       "48  [CCONJ, PRON, AUX, PART, VERB, PART, VERB, NOU...  \n",
       "49  [CCONJ, AUX, PRON, VERB, PART, VERB, DET, VERB...  "
      ]
     },
     "execution_count": 108,
     "metadata": {},
     "output_type": "execute_result"
    }
   ],
   "source": [
    "df_generation['pos'] = df_generation['pos'].apply(lambda row: row.split())\n",
    "df_generation"
   ]
  },
  {
   "cell_type": "code",
   "execution_count": 249,
   "id": "2bbafe1f",
   "metadata": {},
   "outputs": [
    {
     "data": {
      "text/html": [
       "<div>\n",
       "<style scoped>\n",
       "    .dataframe tbody tr th:only-of-type {\n",
       "        vertical-align: middle;\n",
       "    }\n",
       "\n",
       "    .dataframe tbody tr th {\n",
       "        vertical-align: top;\n",
       "    }\n",
       "\n",
       "    .dataframe thead th {\n",
       "        text-align: right;\n",
       "    }\n",
       "</style>\n",
       "<table border=\"1\" class=\"dataframe\">\n",
       "  <thead>\n",
       "    <tr style=\"text-align: right;\">\n",
       "      <th></th>\n",
       "      <th>text</th>\n",
       "      <th>pos</th>\n",
       "      <th>sentiment</th>\n",
       "      <th>tense</th>\n",
       "      <th>pos_check</th>\n",
       "      <th>sentiment_check</th>\n",
       "      <th>tense_check</th>\n",
       "    </tr>\n",
       "  </thead>\n",
       "  <tbody>\n",
       "    <tr>\n",
       "      <th>0</th>\n",
       "      <td>It ’s useless .</td>\n",
       "      <td>[PRON, VERB, ADJ, PUNCT]</td>\n",
       "      <td>0</td>\n",
       "      <td>present</td>\n",
       "      <td>[PRON, VERB, ADJ, PUNCT]</td>\n",
       "      <td>0</td>\n",
       "      <td>{present}</td>\n",
       "    </tr>\n",
       "    <tr>\n",
       "      <th>1</th>\n",
       "      <td>They had lost their entire expedition .</td>\n",
       "      <td>[PRON, AUX, VERB, PRON, ADJ, NOUN, PUNCT]</td>\n",
       "      <td>0</td>\n",
       "      <td>past</td>\n",
       "      <td>[PRON, AUX, VERB, PRON, ADJ, NOUN, PUNCT]</td>\n",
       "      <td>0</td>\n",
       "      <td>{past}</td>\n",
       "    </tr>\n",
       "    <tr>\n",
       "      <th>2</th>\n",
       "      <td>It was painful .</td>\n",
       "      <td>[PRON, AUX, ADJ, PUNCT]</td>\n",
       "      <td>0</td>\n",
       "      <td>past</td>\n",
       "      <td>[PRON, AUX, ADJ, PUNCT]</td>\n",
       "      <td>0</td>\n",
       "      <td>{past}</td>\n",
       "    </tr>\n",
       "    <tr>\n",
       "      <th>3</th>\n",
       "      <td>It is painted .</td>\n",
       "      <td>[PRON, AUX, VERB, PUNCT]</td>\n",
       "      <td>0</td>\n",
       "      <td>present</td>\n",
       "      <td>[PRON, AUX, VERB, PUNCT]</td>\n",
       "      <td>1</td>\n",
       "      <td>{present}</td>\n",
       "    </tr>\n",
       "    <tr>\n",
       "      <th>4</th>\n",
       "      <td>Based on this will hurt business lending insti...</td>\n",
       "      <td>[VERB, ADP, PRON, AUX, VERB, NOUN, VERB, NOUN,...</td>\n",
       "      <td>0</td>\n",
       "      <td>future</td>\n",
       "      <td>[VERB, ADP, PRON, AUX, VERB, NOUN, NOUN, NOUN,...</td>\n",
       "      <td>0</td>\n",
       "      <td>{future}</td>\n",
       "    </tr>\n",
       "    <tr>\n",
       "      <th>...</th>\n",
       "      <td>...</td>\n",
       "      <td>...</td>\n",
       "      <td>...</td>\n",
       "      <td>...</td>\n",
       "      <td>...</td>\n",
       "      <td>...</td>\n",
       "      <td>...</td>\n",
       "    </tr>\n",
       "    <tr>\n",
       "      <th>995</th>\n",
       "      <td>He ’s growing , out of growing to his max .</td>\n",
       "      <td>[PRON, AUX, VERB, PUNCT, ADP, ADP, VERB, ADP, ...</td>\n",
       "      <td>2</td>\n",
       "      <td>present</td>\n",
       "      <td>[PRON, AUX, VERB, PUNCT, ADP, ADP, VERB, ADP, ...</td>\n",
       "      <td>2</td>\n",
       "      <td>{present}</td>\n",
       "    </tr>\n",
       "    <tr>\n",
       "      <th>996</th>\n",
       "      <td>And despite California ’s drought battling , m...</td>\n",
       "      <td>[CCONJ, SCONJ, PROPN, NOUN, NOUN, VERB, PUNCT,...</td>\n",
       "      <td>2</td>\n",
       "      <td>past</td>\n",
       "      <td>[CCONJ, SCONJ, PROPN, NOUN, NOUN, VERB, PUNCT,...</td>\n",
       "      <td>1</td>\n",
       "      <td>{past}</td>\n",
       "    </tr>\n",
       "    <tr>\n",
       "      <th>997</th>\n",
       "      <td>From the bench graphs above the reflected valu...</td>\n",
       "      <td>[ADP, DET, NOUN, VERB, ADP, DET, VERB, NOUN, P...</td>\n",
       "      <td>2</td>\n",
       "      <td>present</td>\n",
       "      <td>[ADP, DET, NOUN, NOUN, ADP, DET, VERB, NOUN, P...</td>\n",
       "      <td>2</td>\n",
       "      <td>{}</td>\n",
       "    </tr>\n",
       "    <tr>\n",
       "      <th>998</th>\n",
       "      <td>Research on self - driving cars shows to the p...</td>\n",
       "      <td>[NOUN, ADP, NOUN, PUNCT, VERB, NOUN, VERB, ADP...</td>\n",
       "      <td>2</td>\n",
       "      <td>present</td>\n",
       "      <td>[NOUN, ADP, NOUN, PUNCT, VERB, NOUN, VERB, ADP...</td>\n",
       "      <td>1</td>\n",
       "      <td>{present}</td>\n",
       "    </tr>\n",
       "    <tr>\n",
       "      <th>999</th>\n",
       "      <td>This adds a healthy dinner rush reminiscent of...</td>\n",
       "      <td>[PRON, VERB, DET, ADJ, NOUN, NOUN, ADJ, ADP, S...</td>\n",
       "      <td>2</td>\n",
       "      <td>present</td>\n",
       "      <td>[PRON, VERB, DET, ADJ, NOUN, NOUN, ADJ, ADP, S...</td>\n",
       "      <td>2</td>\n",
       "      <td>{present}</td>\n",
       "    </tr>\n",
       "  </tbody>\n",
       "</table>\n",
       "<p>1000 rows × 7 columns</p>\n",
       "</div>"
      ],
      "text/plain": [
       "                                                  text  \\\n",
       "0                                      It ’s useless .   \n",
       "1              They had lost their entire expedition .   \n",
       "2                                     It was painful .   \n",
       "3                                      It is painted .   \n",
       "4    Based on this will hurt business lending insti...   \n",
       "..                                                 ...   \n",
       "995        He ’s growing , out of growing to his max .   \n",
       "996  And despite California ’s drought battling , m...   \n",
       "997  From the bench graphs above the reflected valu...   \n",
       "998  Research on self - driving cars shows to the p...   \n",
       "999  This adds a healthy dinner rush reminiscent of...   \n",
       "\n",
       "                                                   pos  sentiment    tense  \\\n",
       "0                             [PRON, VERB, ADJ, PUNCT]          0  present   \n",
       "1            [PRON, AUX, VERB, PRON, ADJ, NOUN, PUNCT]          0     past   \n",
       "2                              [PRON, AUX, ADJ, PUNCT]          0     past   \n",
       "3                             [PRON, AUX, VERB, PUNCT]          0  present   \n",
       "4    [VERB, ADP, PRON, AUX, VERB, NOUN, VERB, NOUN,...          0   future   \n",
       "..                                                 ...        ...      ...   \n",
       "995  [PRON, AUX, VERB, PUNCT, ADP, ADP, VERB, ADP, ...          2  present   \n",
       "996  [CCONJ, SCONJ, PROPN, NOUN, NOUN, VERB, PUNCT,...          2     past   \n",
       "997  [ADP, DET, NOUN, VERB, ADP, DET, VERB, NOUN, P...          2  present   \n",
       "998  [NOUN, ADP, NOUN, PUNCT, VERB, NOUN, VERB, ADP...          2  present   \n",
       "999  [PRON, VERB, DET, ADJ, NOUN, NOUN, ADJ, ADP, S...          2  present   \n",
       "\n",
       "                                             pos_check  sentiment_check  \\\n",
       "0                             [PRON, VERB, ADJ, PUNCT]                0   \n",
       "1            [PRON, AUX, VERB, PRON, ADJ, NOUN, PUNCT]                0   \n",
       "2                              [PRON, AUX, ADJ, PUNCT]                0   \n",
       "3                             [PRON, AUX, VERB, PUNCT]                1   \n",
       "4    [VERB, ADP, PRON, AUX, VERB, NOUN, NOUN, NOUN,...                0   \n",
       "..                                                 ...              ...   \n",
       "995  [PRON, AUX, VERB, PUNCT, ADP, ADP, VERB, ADP, ...                2   \n",
       "996  [CCONJ, SCONJ, PROPN, NOUN, NOUN, VERB, PUNCT,...                1   \n",
       "997  [ADP, DET, NOUN, NOUN, ADP, DET, VERB, NOUN, P...                2   \n",
       "998  [NOUN, ADP, NOUN, PUNCT, VERB, NOUN, VERB, ADP...                1   \n",
       "999  [PRON, VERB, DET, ADJ, NOUN, NOUN, ADJ, ADP, S...                2   \n",
       "\n",
       "    tense_check  \n",
       "0     {present}  \n",
       "1        {past}  \n",
       "2        {past}  \n",
       "3     {present}  \n",
       "4      {future}  \n",
       "..          ...  \n",
       "995   {present}  \n",
       "996      {past}  \n",
       "997          {}  \n",
       "998   {present}  \n",
       "999   {present}  \n",
       "\n",
       "[1000 rows x 7 columns]"
      ]
     },
     "execution_count": 249,
     "metadata": {},
     "output_type": "execute_result"
    }
   ],
   "source": [
    "df_generation['sentiment'] = df_generation['sentiment'].replace('positive', 2)\n",
    "df_generation['sentiment'] = df_generation['sentiment'].replace('neutral', 1)\n",
    "df_generation['sentiment'] = df_generation['sentiment'].replace('negative', 0)\n",
    "df_generation"
   ]
  },
  {
   "cell_type": "code",
   "execution_count": 250,
   "id": "6ca1a4db",
   "metadata": {},
   "outputs": [],
   "source": [
    "df_generation['lentense'] = df_generation['tense_check'].apply(len)\n",
    "df_generation.loc[df_generation['tense_check'] == {'Not detected'}, 'lentense'] = 0"
   ]
  },
  {
   "cell_type": "code",
   "execution_count": 8,
   "id": "6b3c819d",
   "metadata": {},
   "outputs": [],
   "source": [
    "def length_exact(df):\n",
    "    expected_length_indexes = df.apply(lambda row: (len(row['text'].split(' ')) == row['length']), axis=1)\n",
    "    return sum(expected_length_indexes)/len(df)"
   ]
  },
  {
   "cell_type": "code",
   "execution_count": 9,
   "id": "f3ddcfc0",
   "metadata": {},
   "outputs": [],
   "source": [
    "def length_approximate(df):\n",
    "    expected_length_indexes = df.apply(lambda row: ((len(row['text'].split(' ')) <= row['length'] + 3) & (len(row['text'].split(' ')) >= row['length'] - 3)), axis=1)\n",
    "    return sum(expected_length_indexes)/len(df)"
   ]
  },
  {
   "cell_type": "code",
   "execution_count": 19,
   "id": "14504a40",
   "metadata": {},
   "outputs": [],
   "source": [
    "def length_mean_dev(df):\n",
    "    length_dev = df.apply(lambda row: np.abs((len(row['text'].split(' ')) - row['length'])), axis=1)\n",
    "    return np.mean(length_dev)"
   ]
  },
  {
   "cell_type": "code",
   "execution_count": 109,
   "id": "16740685",
   "metadata": {},
   "outputs": [],
   "source": [
    "def pos_exact(df):\n",
    "    expected_pos_indexes = df.apply(lambda row: (row['pos'] == row['pos_check']), axis=1)\n",
    "    return sum(expected_pos_indexes)/len(df)"
   ]
  },
  {
   "cell_type": "code",
   "execution_count": 110,
   "id": "158e5194",
   "metadata": {},
   "outputs": [],
   "source": [
    "def pos_unique_without_order(df):\n",
    "    pos_unigrams_match = df.apply(lambda row: (len(set(row['pos']) & set(row['pos_check']))/len(set(row['pos']))), axis=1)\n",
    "    return pos_unigrams_match.mean()"
   ]
  },
  {
   "cell_type": "code",
   "execution_count": 111,
   "id": "5f8ddea3",
   "metadata": {},
   "outputs": [],
   "source": [
    "def bigrams(l1, l2):\n",
    "    number_bigrams = 0\n",
    "    bigrams_l2 =[]\n",
    "    for j in range(len(l2) - 1):\n",
    "        bigrams_l2.append([l2[j], l2[j + 1]])\n",
    "    for i in range(len(l1) - 1):\n",
    "        sublist = [l1[i], l1[i + 1]]\n",
    "        if sublist in bigrams_l2: number_bigrams += 1\n",
    "    return number_bigrams/(len(l1) - 1)"
   ]
  },
  {
   "cell_type": "code",
   "execution_count": 112,
   "id": "e089042d",
   "metadata": {},
   "outputs": [],
   "source": [
    "def trigrams(l1, l2):\n",
    "    number_trigrams = 0\n",
    "    trigrams_l2 =[]\n",
    "    for j in range(len(l2) - 2):\n",
    "        trigrams_l2.append([l2[j], l2[j + 1], l2[j + 2]])\n",
    "    for i in range(len(l1) - 2):\n",
    "        sublist = [l1[i], l1[i + 1], l1[i + 2]]\n",
    "        if sublist in trigrams_l2: number_trigrams += 1\n",
    "    return number_trigrams/(len(l1) - 2)"
   ]
  },
  {
   "cell_type": "code",
   "execution_count": 113,
   "id": "d0232152",
   "metadata": {},
   "outputs": [],
   "source": [
    "def pos_bigrams(df):\n",
    "    pos_bigrams_match = df.apply(lambda row: bigrams(row['pos'], row['pos_check']), axis=1)\n",
    "    return pos_bigrams_match.mean()"
   ]
  },
  {
   "cell_type": "code",
   "execution_count": 114,
   "id": "73c3538d",
   "metadata": {},
   "outputs": [],
   "source": [
    "def pos_trigrams(df):\n",
    "    pos_trigrams_match = df.apply(lambda row: trigrams(row['pos'], row['pos_check']), axis=1)\n",
    "    return pos_trigrams_match.mean()"
   ]
  },
  {
   "cell_type": "code",
   "execution_count": 115,
   "id": "fc62a5a3",
   "metadata": {},
   "outputs": [],
   "source": [
    "def needleman_wunsch(seq1, seq2, match_score=1, mismatch_score=-1, gap_penalty=-1):\n",
    "    \"\"\"\n",
    "    Very simple aligning algorithm.\n",
    "    \"\"\"\n",
    "\n",
    "    m, n = len(seq1), len(seq2)\n",
    "    score_matrix = np.zeros((m + 1, n + 1), dtype=int)\n",
    "\n",
    "    for i in range(m + 1):\n",
    "        score_matrix[i, 0] = i * gap_penalty\n",
    "    for j in range(n + 1):\n",
    "        score_matrix[0, j] = j * gap_penalty\n",
    "\n",
    "    for i in range(1, m + 1):\n",
    "        for j in range(1, n + 1):\n",
    "            match = score_matrix[i - 1, j - 1] + (match_score if seq1[i - 1] == seq2[j - 1] else mismatch_score)\n",
    "            delete = score_matrix[i - 1, j] + gap_penalty\n",
    "            insert = score_matrix[i, j - 1] + gap_penalty\n",
    "            score_matrix[i, j] = max(match, delete, insert)\n",
    "\n",
    "    aligned_seq1 = []\n",
    "    aligned_seq2 = []\n",
    "    i, j = m, n\n",
    "\n",
    "    while i > 0 or j > 0:\n",
    "        if i > 0 and j > 0 and score_matrix[i, j] == score_matrix[i - 1, j - 1] + (match_score if seq1[i - 1] == seq2[j - 1] else mismatch_score):\n",
    "            aligned_seq1.append(seq1[i - 1])\n",
    "            aligned_seq2.append(seq2[j - 1])\n",
    "            i -= 1\n",
    "            j -= 1\n",
    "        elif i > 0 and score_matrix[i, j] == score_matrix[i - 1, j] + gap_penalty:\n",
    "            aligned_seq1.append(seq1[i - 1])\n",
    "            aligned_seq2.append('-')\n",
    "            i -= 1\n",
    "        else:\n",
    "            aligned_seq1.append('-')\n",
    "            aligned_seq2.append(seq2[j - 1])\n",
    "            j -= 1\n",
    "\n",
    "    aligned_seq1 = list(reversed(aligned_seq1))\n",
    "    aligned_seq2 = list(reversed(aligned_seq2))\n",
    "\n",
    "    return aligned_seq1, aligned_seq2"
   ]
  },
  {
   "cell_type": "code",
   "execution_count": 116,
   "id": "e6ee94ea",
   "metadata": {},
   "outputs": [],
   "source": [
    "def pos_alignment(df):\n",
    "    matches = []\n",
    "    for i in range(len(df)):\n",
    "        aligned_input, aligned_pred = needleman_wunsch(df['pos'][i], df['pos_check'][i])\n",
    "        matches += [g == p for g,p in zip(aligned_input, aligned_pred)]\n",
    "    return np.mean(matches)"
   ]
  },
  {
   "cell_type": "code",
   "execution_count": 6,
   "id": "fde80de9",
   "metadata": {},
   "outputs": [
    {
     "name": "stdout",
     "output_type": "stream",
     "text": [
      "['PRON', '-', 'VERB', 'ADJ', 'PUNCT']\n",
      "['PRON', 'AUX', 'VERB', '-', 'PUNCT']\n"
     ]
    }
   ],
   "source": [
    "sequence_1 = ['PRON', 'VERB', 'ADJ', 'PUNCT']\n",
    "sequence_2 = ['PRON', 'AUX', 'VERB', 'PUNCT']\n",
    "print(needleman_wunsch(sequence_1, sequence_2)[0])\n",
    "print(needleman_wunsch(sequence_1, sequence_2)[1])"
   ]
  },
  {
   "cell_type": "code",
   "execution_count": 10,
   "id": "9e6678c0",
   "metadata": {},
   "outputs": [
    {
     "data": {
      "text/plain": [
       "0.6"
      ]
     },
     "execution_count": 10,
     "metadata": {},
     "output_type": "execute_result"
    }
   ],
   "source": [
    "aligned_input, aligned_pred = needleman_wunsch(sequence_1, sequence_2)\n",
    "np.mean([g == p for g,p in zip(aligned_input, aligned_pred)])"
   ]
  },
  {
   "cell_type": "code",
   "execution_count": 1,
   "id": "568e240c",
   "metadata": {},
   "outputs": [],
   "source": [
    "def sentiment_exact(df):\n",
    "    expected_sentiment_indexes = df.apply(lambda row: (row['sentiment'] == row['sentiment_check']), axis=1)\n",
    "    return sum(expected_sentiment_indexes)/len(df)"
   ]
  },
  {
   "cell_type": "code",
   "execution_count": 181,
   "id": "06898bde",
   "metadata": {},
   "outputs": [],
   "source": [
    "def sentiment_approximate(df):\n",
    "    expected_sentiment_indexes = df.apply(lambda row: (abs(row['sentiment'] - row['sentiment_check']) <= 1), axis=1)\n",
    "    return sum(expected_sentiment_indexes)/len(df)"
   ]
  },
  {
   "cell_type": "code",
   "execution_count": 201,
   "id": "93181023",
   "metadata": {},
   "outputs": [],
   "source": [
    "def tense_exact(df):\n",
    "    expected_tense_indexes = df.apply(lambda row: (row['tense'] in row['tense_check']), axis=1)\n",
    "    return sum(expected_tense_indexes)/len(df)"
   ]
  },
  {
   "cell_type": "code",
   "execution_count": 174,
   "id": "02ed383a",
   "metadata": {},
   "outputs": [
    {
     "data": {
      "text/plain": [
       "0.4625"
      ]
     },
     "execution_count": 174,
     "metadata": {},
     "output_type": "execute_result"
    }
   ],
   "source": [
    "length_exact(df_generation)"
   ]
  },
  {
   "cell_type": "code",
   "execution_count": 193,
   "id": "6bd4906b",
   "metadata": {},
   "outputs": [
    {
     "data": {
      "text/plain": [
       "0.2876712328767123"
      ]
     },
     "execution_count": 193,
     "metadata": {},
     "output_type": "execute_result"
    }
   ],
   "source": [
    "length_exact(df_chatgpt)"
   ]
  },
  {
   "cell_type": "code",
   "execution_count": 194,
   "id": "a99a5114",
   "metadata": {},
   "outputs": [
    {
     "data": {
      "text/plain": [
       "0.9315"
      ]
     },
     "execution_count": 194,
     "metadata": {},
     "output_type": "execute_result"
    }
   ],
   "source": [
    "length_approximate(df_generation)"
   ]
  },
  {
   "cell_type": "code",
   "execution_count": 195,
   "id": "df7bb11a",
   "metadata": {},
   "outputs": [
    {
     "data": {
      "text/plain": [
       "0.8698630136986302"
      ]
     },
     "execution_count": 195,
     "metadata": {},
     "output_type": "execute_result"
    }
   ],
   "source": [
    "length_approximate(df_chatgpt)"
   ]
  },
  {
   "cell_type": "code",
   "execution_count": 178,
   "id": "98c656b5",
   "metadata": {},
   "outputs": [
    {
     "data": {
      "text/plain": [
       "1.395"
      ]
     },
     "execution_count": 178,
     "metadata": {},
     "output_type": "execute_result"
    }
   ],
   "source": [
    "length_mean_dev(df_generation)"
   ]
  },
  {
   "cell_type": "code",
   "execution_count": 196,
   "id": "99be2a9e",
   "metadata": {},
   "outputs": [
    {
     "data": {
      "text/plain": [
       "1.5342465753424657"
      ]
     },
     "execution_count": 196,
     "metadata": {},
     "output_type": "execute_result"
    }
   ],
   "source": [
    "length_mean_dev(df_chatgpt)"
   ]
  },
  {
   "cell_type": "code",
   "execution_count": 103,
   "id": "8aab7b5e",
   "metadata": {},
   "outputs": [
    {
     "data": {
      "text/plain": [
       "1"
      ]
     },
     "execution_count": 103,
     "metadata": {},
     "output_type": "execute_result"
    }
   ],
   "source": [
    "len(df_generation[(df_generation['length'] >= 71) & (df_generation['length'] <= 80)])"
   ]
  },
  {
   "cell_type": "code",
   "execution_count": 104,
   "id": "f418d19e",
   "metadata": {},
   "outputs": [
    {
     "data": {
      "text/plain": [
       "0.0"
      ]
     },
     "execution_count": 104,
     "metadata": {},
     "output_type": "execute_result"
    }
   ],
   "source": [
    "length_exact(df_generation[(df_generation['length'] >= 71) & (df_generation['length'] <= 80)])"
   ]
  },
  {
   "cell_type": "code",
   "execution_count": 105,
   "id": "d7a90244",
   "metadata": {},
   "outputs": [
    {
     "data": {
      "text/plain": [
       "0.0"
      ]
     },
     "execution_count": 105,
     "metadata": {},
     "output_type": "execute_result"
    }
   ],
   "source": [
    "length_approximate(df_generation[(df_generation['length'] >= 71) & (df_generation['length'] <= 80)])"
   ]
  },
  {
   "cell_type": "code",
   "execution_count": 30,
   "id": "9c12c256",
   "metadata": {},
   "outputs": [
    {
     "data": {
      "text/plain": [
       "37.666666666666664"
      ]
     },
     "execution_count": 30,
     "metadata": {},
     "output_type": "execute_result"
    }
   ],
   "source": [
    "length_mean_dev(df_generation[(df_generation['length'] >= 71) & (df_generation['length'] <= 80)])"
   ]
  },
  {
   "cell_type": "code",
   "execution_count": 180,
   "id": "7195eb72",
   "metadata": {},
   "outputs": [],
   "source": [
    "distribution_length_exact = []\n",
    "distribution_length_appr = []\n",
    "distribution_length_mean_dev = []\n",
    "for i in range(1, 72, 10):\n",
    "    distribution_length_exact.append(length_exact(df_generation[(df_generation['length'] >= i) & (df_generation['length'] <= i+9)]))\n",
    "    distribution_length_appr.append(length_approximate(df_generation[(df_generation['length'] >= i) & (df_generation['length'] <= i+9)]))\n",
    "    distribution_length_mean_dev.append(length_mean_dev(df_generation[(df_generation['length'] >= i) & (df_generation['length'] <= i+9)]))"
   ]
  },
  {
   "cell_type": "code",
   "execution_count": 197,
   "id": "a580a18e",
   "metadata": {},
   "outputs": [],
   "source": [
    "distribution_length_exact_chatgpt = []\n",
    "distribution_length_appr_chatgpt = []\n",
    "distribution_length_mean_dev_chatgpt = []\n",
    "for i in range(1, 72, 10):\n",
    "    distribution_length_exact_chatgpt.append(length_exact(df_chatgpt[(df_chatgpt['length'] >= i) & (df_chatgpt['length'] <= i+9)]))\n",
    "    distribution_length_appr_chatgpt.append(length_approximate(df_chatgpt[(df_chatgpt['length'] >= i) & (df_chatgpt['length'] <= i+9)]))\n",
    "    distribution_length_mean_dev_chatgpt.append(length_mean_dev(df_chatgpt[(df_chatgpt['length'] >= i) & (df_chatgpt['length'] <= i+9)]))"
   ]
  },
  {
   "cell_type": "code",
   "execution_count": 198,
   "id": "aa2747c2",
   "metadata": {},
   "outputs": [
    {
     "data": {
      "text/html": [
       "<div>\n",
       "<style scoped>\n",
       "    .dataframe tbody tr th:only-of-type {\n",
       "        vertical-align: middle;\n",
       "    }\n",
       "\n",
       "    .dataframe tbody tr th {\n",
       "        vertical-align: top;\n",
       "    }\n",
       "\n",
       "    .dataframe thead th {\n",
       "        text-align: right;\n",
       "    }\n",
       "</style>\n",
       "<table border=\"1\" class=\"dataframe\">\n",
       "  <thead>\n",
       "    <tr style=\"text-align: right;\">\n",
       "      <th></th>\n",
       "      <th>length</th>\n",
       "      <th>length_exact</th>\n",
       "      <th>length_appr</th>\n",
       "      <th>length_mean_dev</th>\n",
       "      <th>length_exact_chatgpt</th>\n",
       "      <th>length_appr_chatgpt</th>\n",
       "      <th>length_mean_dev_chatgpt</th>\n",
       "    </tr>\n",
       "  </thead>\n",
       "  <tbody>\n",
       "    <tr>\n",
       "      <th>0</th>\n",
       "      <td>1</td>\n",
       "      <td>0.717314</td>\n",
       "      <td>1.000000</td>\n",
       "      <td>0.303887</td>\n",
       "      <td>0.433333</td>\n",
       "      <td>1.000000</td>\n",
       "      <td>0.733333</td>\n",
       "    </tr>\n",
       "    <tr>\n",
       "      <th>1</th>\n",
       "      <td>11</td>\n",
       "      <td>0.561753</td>\n",
       "      <td>0.996016</td>\n",
       "      <td>0.519256</td>\n",
       "      <td>0.266667</td>\n",
       "      <td>0.966667</td>\n",
       "      <td>1.066667</td>\n",
       "    </tr>\n",
       "    <tr>\n",
       "      <th>2</th>\n",
       "      <td>21</td>\n",
       "      <td>0.401434</td>\n",
       "      <td>0.998208</td>\n",
       "      <td>0.738351</td>\n",
       "      <td>0.333333</td>\n",
       "      <td>0.933333</td>\n",
       "      <td>1.400000</td>\n",
       "    </tr>\n",
       "    <tr>\n",
       "      <th>3</th>\n",
       "      <td>31</td>\n",
       "      <td>0.271739</td>\n",
       "      <td>0.938406</td>\n",
       "      <td>1.293478</td>\n",
       "      <td>0.166667</td>\n",
       "      <td>0.733333</td>\n",
       "      <td>2.200000</td>\n",
       "    </tr>\n",
       "    <tr>\n",
       "      <th>4</th>\n",
       "      <td>41</td>\n",
       "      <td>0.000000</td>\n",
       "      <td>0.162791</td>\n",
       "      <td>7.511628</td>\n",
       "      <td>0.200000</td>\n",
       "      <td>0.666667</td>\n",
       "      <td>2.533333</td>\n",
       "    </tr>\n",
       "    <tr>\n",
       "      <th>5</th>\n",
       "      <td>51</td>\n",
       "      <td>0.000000</td>\n",
       "      <td>0.000000</td>\n",
       "      <td>16.419355</td>\n",
       "      <td>0.200000</td>\n",
       "      <td>0.800000</td>\n",
       "      <td>2.000000</td>\n",
       "    </tr>\n",
       "    <tr>\n",
       "      <th>6</th>\n",
       "      <td>61</td>\n",
       "      <td>0.000000</td>\n",
       "      <td>0.000000</td>\n",
       "      <td>27.600000</td>\n",
       "      <td>0.333333</td>\n",
       "      <td>1.000000</td>\n",
       "      <td>1.000000</td>\n",
       "    </tr>\n",
       "    <tr>\n",
       "      <th>7</th>\n",
       "      <td>71</td>\n",
       "      <td>0.000000</td>\n",
       "      <td>0.000000</td>\n",
       "      <td>37.666667</td>\n",
       "      <td>0.333333</td>\n",
       "      <td>0.333333</td>\n",
       "      <td>3.666667</td>\n",
       "    </tr>\n",
       "  </tbody>\n",
       "</table>\n",
       "</div>"
      ],
      "text/plain": [
       "   length  length_exact  length_appr  length_mean_dev  length_exact_chatgpt  \\\n",
       "0       1      0.717314     1.000000         0.303887              0.433333   \n",
       "1      11      0.561753     0.996016         0.519256              0.266667   \n",
       "2      21      0.401434     0.998208         0.738351              0.333333   \n",
       "3      31      0.271739     0.938406         1.293478              0.166667   \n",
       "4      41      0.000000     0.162791         7.511628              0.200000   \n",
       "5      51      0.000000     0.000000        16.419355              0.200000   \n",
       "6      61      0.000000     0.000000        27.600000              0.333333   \n",
       "7      71      0.000000     0.000000        37.666667              0.333333   \n",
       "\n",
       "   length_appr_chatgpt  length_mean_dev_chatgpt  \n",
       "0             1.000000                 0.733333  \n",
       "1             0.966667                 1.066667  \n",
       "2             0.933333                 1.400000  \n",
       "3             0.733333                 2.200000  \n",
       "4             0.666667                 2.533333  \n",
       "5             0.800000                 2.000000  \n",
       "6             1.000000                 1.000000  \n",
       "7             0.333333                 3.666667  "
      ]
     },
     "execution_count": 198,
     "metadata": {},
     "output_type": "execute_result"
    }
   ],
   "source": [
    "df_length_metrics = pd.DataFrame({'length': range(1, 72, 10), 'length_exact': distribution_length_exact, 'length_appr': distribution_length_appr, 'length_mean_dev': distribution_length_mean_dev, 'length_exact_chatgpt': distribution_length_exact_chatgpt, 'length_appr_chatgpt': distribution_length_appr_chatgpt, 'length_mean_dev_chatgpt': distribution_length_mean_dev_chatgpt})\n",
    "df_length_metrics"
   ]
  },
  {
   "cell_type": "code",
   "execution_count": 199,
   "id": "5a709f7f",
   "metadata": {},
   "outputs": [
    {
     "data": {
      "image/png": "[encoded data removed]",
      "text/plain": [
       "<Figure size 640x480 with 1 Axes>"
      ]
     },
     "metadata": {},
     "output_type": "display_data"
    }
   ],
   "source": [
    "sns.lineplot(x='length', y='value', hue='variable', data=pd.melt(df_length_metrics[['length_exact', 'length_exact_chatgpt', 'length']], ['length']))\n",
    "plt.legend(labels = ['GPT-2 length', None, 'ChatGPT'])\n",
    "plt.show()"
   ]
  },
  {
   "cell_type": "code",
   "execution_count": 200,
   "id": "aa3a46f2",
   "metadata": {},
   "outputs": [
    {
     "data": {
      "image/png": "[encoded data removed]",
      "text/plain": [
       "<Figure size 640x480 with 1 Axes>"
      ]
     },
     "metadata": {},
     "output_type": "display_data"
    }
   ],
   "source": [
    "sns.lineplot(x='length', y='value', hue='variable', data=pd.melt(df_length_metrics[['length_appr', 'length_appr_chatgpt', 'length']], ['length']))\n",
    "plt.legend(labels = ['GPT-2 length', None, 'ChatGPT'])\n",
    "plt.show()"
   ]
  },
  {
   "cell_type": "code",
   "execution_count": 201,
   "id": "9c0a6648",
   "metadata": {},
   "outputs": [
    {
     "data": {
      "image/png": "[encoded data removed]",
      "text/plain": [
       "<Figure size 640x480 with 1 Axes>"
      ]
     },
     "metadata": {},
     "output_type": "display_data"
    }
   ],
   "source": [
    "sns.lineplot(x='length', y='value', hue='variable', data=pd.melt(df_length_metrics[['length_mean_dev', 'length_mean_dev_chatgpt', 'length']], ['length']))\n",
    "plt.legend(labels = ['GPT-2 length', None, 'ChatGPT'])\n",
    "plt.show()"
   ]
  },
  {
   "cell_type": "code",
   "execution_count": 117,
   "id": "a66dfe05",
   "metadata": {},
   "outputs": [
    {
     "data": {
      "text/plain": [
       "0.0"
      ]
     },
     "execution_count": 117,
     "metadata": {},
     "output_type": "execute_result"
    }
   ],
   "source": [
    "pos_exact(df_generation)"
   ]
  },
  {
   "cell_type": "code",
   "execution_count": 118,
   "id": "c06a4d08",
   "metadata": {},
   "outputs": [
    {
     "data": {
      "text/plain": [
       "0.7611168831168833"
      ]
     },
     "execution_count": 118,
     "metadata": {},
     "output_type": "execute_result"
    }
   ],
   "source": [
    "pos_unique_without_order(df_generation)"
   ]
  },
  {
   "cell_type": "code",
   "execution_count": 119,
   "id": "f57e39ba",
   "metadata": {},
   "outputs": [
    {
     "data": {
      "text/plain": [
       "0.4169665704665704"
      ]
     },
     "execution_count": 119,
     "metadata": {},
     "output_type": "execute_result"
    }
   ],
   "source": [
    "pos_bigrams(df_generation)"
   ]
  },
  {
   "cell_type": "code",
   "execution_count": 120,
   "id": "ee270e43",
   "metadata": {},
   "outputs": [
    {
     "data": {
      "text/plain": [
       "0.17833460742156393"
      ]
     },
     "execution_count": 120,
     "metadata": {},
     "output_type": "execute_result"
    }
   ],
   "source": [
    "pos_trigrams(df_generation)"
   ]
  },
  {
   "cell_type": "code",
   "execution_count": 121,
   "id": "de38ae41",
   "metadata": {},
   "outputs": [
    {
     "data": {
      "text/plain": [
       "0.49176470588235294"
      ]
     },
     "execution_count": 121,
     "metadata": {},
     "output_type": "execute_result"
    }
   ],
   "source": [
    "pos_alignment(df_generation)"
   ]
  },
  {
   "cell_type": "code",
   "execution_count": 264,
   "id": "a69740c0",
   "metadata": {},
   "outputs": [
    {
     "data": {
      "text/html": [
       "<div>\n",
       "<style scoped>\n",
       "    .dataframe tbody tr th:only-of-type {\n",
       "        vertical-align: middle;\n",
       "    }\n",
       "\n",
       "    .dataframe tbody tr th {\n",
       "        vertical-align: top;\n",
       "    }\n",
       "\n",
       "    .dataframe thead th {\n",
       "        text-align: right;\n",
       "    }\n",
       "</style>\n",
       "<table border=\"1\" class=\"dataframe\">\n",
       "  <thead>\n",
       "    <tr style=\"text-align: right;\">\n",
       "      <th></th>\n",
       "      <th>text</th>\n",
       "      <th>pos</th>\n",
       "      <th>sentiment</th>\n",
       "      <th>tense</th>\n",
       "      <th>pos_check</th>\n",
       "      <th>sentiment_check</th>\n",
       "      <th>tense_check</th>\n",
       "      <th>lentense</th>\n",
       "    </tr>\n",
       "  </thead>\n",
       "  <tbody>\n",
       "    <tr>\n",
       "      <th>667</th>\n",
       "      <td>You can also enable Harmony to train your Imam...</td>\n",
       "      <td>[PRON, AUX, ADV, VERB, PROPN, PART, VERB, PRON...</td>\n",
       "      <td>2</td>\n",
       "      <td>future</td>\n",
       "      <td>[PRON, AUX, ADV, VERB, PROPN, PART, VERB, PRON...</td>\n",
       "      <td>1</td>\n",
       "      <td>{future}</td>\n",
       "      <td>1</td>\n",
       "    </tr>\n",
       "    <tr>\n",
       "      <th>668</th>\n",
       "      <td>But on the flight of the trade - off was a suc...</td>\n",
       "      <td>[CCONJ, ADP, DET, NOUN, ADP, DET, NOUN, PUNCT,...</td>\n",
       "      <td>2</td>\n",
       "      <td>past</td>\n",
       "      <td>[CCONJ, ADP, DET, NOUN, ADP, DET, NOUN, PUNCT,...</td>\n",
       "      <td>2</td>\n",
       "      <td>{past}</td>\n",
       "      <td>1</td>\n",
       "    </tr>\n",
       "    <tr>\n",
       "      <th>669</th>\n",
       "      <td>When the Eastern States wins and then loses mo...</td>\n",
       "      <td>[SCONJ, DET, PROPN, PROPN, VERB, CCONJ, ADV, V...</td>\n",
       "      <td>2</td>\n",
       "      <td>present</td>\n",
       "      <td>[SCONJ, DET, PROPN, PROPN, VERB, CCONJ, ADV, V...</td>\n",
       "      <td>1</td>\n",
       "      <td>{present}</td>\n",
       "      <td>1</td>\n",
       "    </tr>\n",
       "    <tr>\n",
       "      <th>670</th>\n",
       "      <td>At 8:30 a.m. the UFC Fight Night begins previe...</td>\n",
       "      <td>[ADP, NUM, DET, PROPN, PROPN, PROPN, VERB, VER...</td>\n",
       "      <td>2</td>\n",
       "      <td>future</td>\n",
       "      <td>[ADP, NUM, NOUN, DET, PROPN, PROPN, PROPN, VER...</td>\n",
       "      <td>1</td>\n",
       "      <td>{present}</td>\n",
       "      <td>1</td>\n",
       "    </tr>\n",
       "    <tr>\n",
       "      <th>671</th>\n",
       "      <td>That 'd be slightly more fun .</td>\n",
       "      <td>[PRON, AUX, PART, ADV, ADJ, NOUN, PUNCT]</td>\n",
       "      <td>2</td>\n",
       "      <td>future</td>\n",
       "      <td>[PRON, AUX, AUX, ADV, ADJ, NOUN, PUNCT]</td>\n",
       "      <td>2</td>\n",
       "      <td>{future}</td>\n",
       "      <td>1</td>\n",
       "    </tr>\n",
       "    <tr>\n",
       "      <th>...</th>\n",
       "      <td>...</td>\n",
       "      <td>...</td>\n",
       "      <td>...</td>\n",
       "      <td>...</td>\n",
       "      <td>...</td>\n",
       "      <td>...</td>\n",
       "      <td>...</td>\n",
       "      <td>...</td>\n",
       "    </tr>\n",
       "    <tr>\n",
       "      <th>995</th>\n",
       "      <td>He ’s growing , out of growing to his max .</td>\n",
       "      <td>[PRON, AUX, VERB, PUNCT, ADP, ADP, VERB, ADP, ...</td>\n",
       "      <td>2</td>\n",
       "      <td>present</td>\n",
       "      <td>[PRON, AUX, VERB, PUNCT, ADP, ADP, VERB, ADP, ...</td>\n",
       "      <td>2</td>\n",
       "      <td>{present}</td>\n",
       "      <td>1</td>\n",
       "    </tr>\n",
       "    <tr>\n",
       "      <th>996</th>\n",
       "      <td>And despite California ’s drought battling , m...</td>\n",
       "      <td>[CCONJ, SCONJ, PROPN, NOUN, NOUN, VERB, PUNCT,...</td>\n",
       "      <td>2</td>\n",
       "      <td>past</td>\n",
       "      <td>[CCONJ, SCONJ, PROPN, NOUN, NOUN, VERB, PUNCT,...</td>\n",
       "      <td>1</td>\n",
       "      <td>{past}</td>\n",
       "      <td>1</td>\n",
       "    </tr>\n",
       "    <tr>\n",
       "      <th>997</th>\n",
       "      <td>From the bench graphs above the reflected valu...</td>\n",
       "      <td>[ADP, DET, NOUN, VERB, ADP, DET, VERB, NOUN, P...</td>\n",
       "      <td>2</td>\n",
       "      <td>present</td>\n",
       "      <td>[ADP, DET, NOUN, NOUN, ADP, DET, VERB, NOUN, P...</td>\n",
       "      <td>2</td>\n",
       "      <td>{}</td>\n",
       "      <td>0</td>\n",
       "    </tr>\n",
       "    <tr>\n",
       "      <th>998</th>\n",
       "      <td>Research on self - driving cars shows to the p...</td>\n",
       "      <td>[NOUN, ADP, NOUN, PUNCT, VERB, NOUN, VERB, ADP...</td>\n",
       "      <td>2</td>\n",
       "      <td>present</td>\n",
       "      <td>[NOUN, ADP, NOUN, PUNCT, VERB, NOUN, VERB, ADP...</td>\n",
       "      <td>1</td>\n",
       "      <td>{present}</td>\n",
       "      <td>1</td>\n",
       "    </tr>\n",
       "    <tr>\n",
       "      <th>999</th>\n",
       "      <td>This adds a healthy dinner rush reminiscent of...</td>\n",
       "      <td>[PRON, VERB, DET, ADJ, NOUN, NOUN, ADJ, ADP, S...</td>\n",
       "      <td>2</td>\n",
       "      <td>present</td>\n",
       "      <td>[PRON, VERB, DET, ADJ, NOUN, NOUN, ADJ, ADP, S...</td>\n",
       "      <td>2</td>\n",
       "      <td>{present}</td>\n",
       "      <td>1</td>\n",
       "    </tr>\n",
       "  </tbody>\n",
       "</table>\n",
       "<p>333 rows × 8 columns</p>\n",
       "</div>"
      ],
      "text/plain": [
       "                                                  text  \\\n",
       "667  You can also enable Harmony to train your Imam...   \n",
       "668  But on the flight of the trade - off was a suc...   \n",
       "669  When the Eastern States wins and then loses mo...   \n",
       "670  At 8:30 a.m. the UFC Fight Night begins previe...   \n",
       "671                     That 'd be slightly more fun .   \n",
       "..                                                 ...   \n",
       "995        He ’s growing , out of growing to his max .   \n",
       "996  And despite California ’s drought battling , m...   \n",
       "997  From the bench graphs above the reflected valu...   \n",
       "998  Research on self - driving cars shows to the p...   \n",
       "999  This adds a healthy dinner rush reminiscent of...   \n",
       "\n",
       "                                                   pos  sentiment    tense  \\\n",
       "667  [PRON, AUX, ADV, VERB, PROPN, PART, VERB, PRON...          2   future   \n",
       "668  [CCONJ, ADP, DET, NOUN, ADP, DET, NOUN, PUNCT,...          2     past   \n",
       "669  [SCONJ, DET, PROPN, PROPN, VERB, CCONJ, ADV, V...          2  present   \n",
       "670  [ADP, NUM, DET, PROPN, PROPN, PROPN, VERB, VER...          2   future   \n",
       "671           [PRON, AUX, PART, ADV, ADJ, NOUN, PUNCT]          2   future   \n",
       "..                                                 ...        ...      ...   \n",
       "995  [PRON, AUX, VERB, PUNCT, ADP, ADP, VERB, ADP, ...          2  present   \n",
       "996  [CCONJ, SCONJ, PROPN, NOUN, NOUN, VERB, PUNCT,...          2     past   \n",
       "997  [ADP, DET, NOUN, VERB, ADP, DET, VERB, NOUN, P...          2  present   \n",
       "998  [NOUN, ADP, NOUN, PUNCT, VERB, NOUN, VERB, ADP...          2  present   \n",
       "999  [PRON, VERB, DET, ADJ, NOUN, NOUN, ADJ, ADP, S...          2  present   \n",
       "\n",
       "                                             pos_check  sentiment_check  \\\n",
       "667  [PRON, AUX, ADV, VERB, PROPN, PART, VERB, PRON...                1   \n",
       "668  [CCONJ, ADP, DET, NOUN, ADP, DET, NOUN, PUNCT,...                2   \n",
       "669  [SCONJ, DET, PROPN, PROPN, VERB, CCONJ, ADV, V...                1   \n",
       "670  [ADP, NUM, NOUN, DET, PROPN, PROPN, PROPN, VER...                1   \n",
       "671            [PRON, AUX, AUX, ADV, ADJ, NOUN, PUNCT]                2   \n",
       "..                                                 ...              ...   \n",
       "995  [PRON, AUX, VERB, PUNCT, ADP, ADP, VERB, ADP, ...                2   \n",
       "996  [CCONJ, SCONJ, PROPN, NOUN, NOUN, VERB, PUNCT,...                1   \n",
       "997  [ADP, DET, NOUN, NOUN, ADP, DET, VERB, NOUN, P...                2   \n",
       "998  [NOUN, ADP, NOUN, PUNCT, VERB, NOUN, VERB, ADP...                1   \n",
       "999  [PRON, VERB, DET, ADJ, NOUN, NOUN, ADJ, ADP, S...                2   \n",
       "\n",
       "    tense_check  lentense  \n",
       "667    {future}         1  \n",
       "668      {past}         1  \n",
       "669   {present}         1  \n",
       "670   {present}         1  \n",
       "671    {future}         1  \n",
       "..          ...       ...  \n",
       "995   {present}         1  \n",
       "996      {past}         1  \n",
       "997          {}         0  \n",
       "998   {present}         1  \n",
       "999   {present}         1  \n",
       "\n",
       "[333 rows x 8 columns]"
      ]
     },
     "execution_count": 264,
     "metadata": {},
     "output_type": "execute_result"
    }
   ],
   "source": [
    "df_generation[df_generation['sentiment'] == 2]"
   ]
  },
  {
   "cell_type": "code",
   "execution_count": 265,
   "id": "8ea61432",
   "metadata": {},
   "outputs": [
    {
     "data": {
      "text/plain": [
       "0.47147147147147145"
      ]
     },
     "execution_count": 265,
     "metadata": {},
     "output_type": "execute_result"
    }
   ],
   "source": [
    "sentiment_exact(df_generation[df_generation['sentiment'] == 2])"
   ]
  },
  {
   "cell_type": "code",
   "execution_count": 266,
   "id": "436a9c2d",
   "metadata": {},
   "outputs": [
    {
     "data": {
      "text/plain": [
       "0.9459459459459459"
      ]
     },
     "execution_count": 266,
     "metadata": {},
     "output_type": "execute_result"
    }
   ],
   "source": [
    "sentiment_approximate(df_generation[df_generation['sentiment'] == 2])"
   ]
  },
  {
   "cell_type": "code",
   "execution_count": 273,
   "id": "8015f0ee",
   "metadata": {},
   "outputs": [
    {
     "data": {
      "text/html": [
       "<div>\n",
       "<style scoped>\n",
       "    .dataframe tbody tr th:only-of-type {\n",
       "        vertical-align: middle;\n",
       "    }\n",
       "\n",
       "    .dataframe tbody tr th {\n",
       "        vertical-align: top;\n",
       "    }\n",
       "\n",
       "    .dataframe thead th {\n",
       "        text-align: right;\n",
       "    }\n",
       "</style>\n",
       "<table border=\"1\" class=\"dataframe\">\n",
       "  <thead>\n",
       "    <tr style=\"text-align: right;\">\n",
       "      <th></th>\n",
       "      <th>text</th>\n",
       "      <th>pos</th>\n",
       "      <th>sentiment</th>\n",
       "      <th>tense</th>\n",
       "      <th>pos_check</th>\n",
       "      <th>sentiment_check</th>\n",
       "      <th>tense_check</th>\n",
       "      <th>lentense</th>\n",
       "    </tr>\n",
       "  </thead>\n",
       "  <tbody>\n",
       "    <tr>\n",
       "      <th>4</th>\n",
       "      <td>Based on this will hurt business lending insti...</td>\n",
       "      <td>[VERB, ADP, PRON, AUX, VERB, NOUN, VERB, NOUN,...</td>\n",
       "      <td>0</td>\n",
       "      <td>future</td>\n",
       "      <td>[VERB, ADP, PRON, AUX, VERB, NOUN, NOUN, NOUN,...</td>\n",
       "      <td>0</td>\n",
       "      <td>{future}</td>\n",
       "      <td>1</td>\n",
       "    </tr>\n",
       "    <tr>\n",
       "      <th>5</th>\n",
       "      <td>You must hate that .</td>\n",
       "      <td>[PRON, AUX, VERB, PRON, PUNCT]</td>\n",
       "      <td>0</td>\n",
       "      <td>future</td>\n",
       "      <td>[PRON, AUX, VERB, PRON, PUNCT]</td>\n",
       "      <td>0</td>\n",
       "      <td>{future}</td>\n",
       "      <td>1</td>\n",
       "    </tr>\n",
       "    <tr>\n",
       "      <th>6</th>\n",
       "      <td>They will refuse the plan to give up .</td>\n",
       "      <td>[PRON, AUX, VERB, DET, NOUN, PART, VERB, ADP, ...</td>\n",
       "      <td>0</td>\n",
       "      <td>future</td>\n",
       "      <td>[PRON, AUX, VERB, DET, NOUN, PART, VERB, ADP, ...</td>\n",
       "      <td>0</td>\n",
       "      <td>{future}</td>\n",
       "      <td>1</td>\n",
       "    </tr>\n",
       "    <tr>\n",
       "      <th>8</th>\n",
       "      <td>You will now miss .</td>\n",
       "      <td>[PRON, AUX, ADV, ADJ, PUNCT]</td>\n",
       "      <td>0</td>\n",
       "      <td>future</td>\n",
       "      <td>[PRON, AUX, ADV, VERB, PUNCT]</td>\n",
       "      <td>1</td>\n",
       "      <td>{future}</td>\n",
       "      <td>1</td>\n",
       "    </tr>\n",
       "    <tr>\n",
       "      <th>9</th>\n",
       "      <td>It ’s pretty boring .</td>\n",
       "      <td>[PRON, VERB, ADV, ADJ, PUNCT]</td>\n",
       "      <td>0</td>\n",
       "      <td>future</td>\n",
       "      <td>[PRON, VERB, ADV, ADJ, PUNCT]</td>\n",
       "      <td>0</td>\n",
       "      <td>{present}</td>\n",
       "      <td>1</td>\n",
       "    </tr>\n",
       "    <tr>\n",
       "      <th>...</th>\n",
       "      <td>...</td>\n",
       "      <td>...</td>\n",
       "      <td>...</td>\n",
       "      <td>...</td>\n",
       "      <td>...</td>\n",
       "      <td>...</td>\n",
       "      <td>...</td>\n",
       "      <td>...</td>\n",
       "    </tr>\n",
       "    <tr>\n",
       "      <th>975</th>\n",
       "      <td>But I ca n’t wait to be a singing partner to “...</td>\n",
       "      <td>[CCONJ, PRON, AUX, PROPN, VERB, PART, AUX, DET...</td>\n",
       "      <td>2</td>\n",
       "      <td>future</td>\n",
       "      <td>[CCONJ, PRON, AUX, NOUN, VERB, PART, AUX, DET,...</td>\n",
       "      <td>2</td>\n",
       "      <td>{future}</td>\n",
       "      <td>1</td>\n",
       "    </tr>\n",
       "    <tr>\n",
       "      <th>982</th>\n",
       "      <td>For the first time and in the US , for revenue...</td>\n",
       "      <td>[ADP, DET, ADJ, NOUN, CCONJ, ADP, DET, PROPN, ...</td>\n",
       "      <td>2</td>\n",
       "      <td>future</td>\n",
       "      <td>[ADP, DET, ADJ, NOUN, CCONJ, ADP, DET, PROPN, ...</td>\n",
       "      <td>1</td>\n",
       "      <td>{present}</td>\n",
       "      <td>1</td>\n",
       "    </tr>\n",
       "    <tr>\n",
       "      <th>985</th>\n",
       "      <td>We are being funded right this way with whatev...</td>\n",
       "      <td>[PRON, AUX, AUX, VERB, ADV, DET, NOUN, ADP, PR...</td>\n",
       "      <td>2</td>\n",
       "      <td>future</td>\n",
       "      <td>[PRON, AUX, AUX, VERB, ADV, DET, NOUN, ADP, PR...</td>\n",
       "      <td>1</td>\n",
       "      <td>{future}</td>\n",
       "      <td>1</td>\n",
       "    </tr>\n",
       "    <tr>\n",
       "      <th>986</th>\n",
       "      <td>In his role , President Obama won the Democrat...</td>\n",
       "      <td>[ADP, PRON, NOUN, PUNCT, PROPN, PROPN, VERB, D...</td>\n",
       "      <td>2</td>\n",
       "      <td>future</td>\n",
       "      <td>[ADP, PRON, NOUN, PUNCT, PROPN, PROPN, VERB, D...</td>\n",
       "      <td>2</td>\n",
       "      <td>{past}</td>\n",
       "      <td>1</td>\n",
       "    </tr>\n",
       "    <tr>\n",
       "      <th>992</th>\n",
       "      <td>You can just play any game , and you can just ...</td>\n",
       "      <td>[PRON, AUX, ADV, VERB, DET, NOUN, PUNCT, CCONJ...</td>\n",
       "      <td>2</td>\n",
       "      <td>future</td>\n",
       "      <td>[PRON, AUX, ADV, VERB, DET, NOUN, PUNCT, CCONJ...</td>\n",
       "      <td>1</td>\n",
       "      <td>{future}</td>\n",
       "      <td>1</td>\n",
       "    </tr>\n",
       "  </tbody>\n",
       "</table>\n",
       "<p>235 rows × 8 columns</p>\n",
       "</div>"
      ],
      "text/plain": [
       "                                                  text  \\\n",
       "4    Based on this will hurt business lending insti...   \n",
       "5                                 You must hate that .   \n",
       "6               They will refuse the plan to give up .   \n",
       "8                                  You will now miss .   \n",
       "9                                It ’s pretty boring .   \n",
       "..                                                 ...   \n",
       "975  But I ca n’t wait to be a singing partner to “...   \n",
       "982  For the first time and in the US , for revenue...   \n",
       "985  We are being funded right this way with whatev...   \n",
       "986  In his role , President Obama won the Democrat...   \n",
       "992  You can just play any game , and you can just ...   \n",
       "\n",
       "                                                   pos  sentiment   tense  \\\n",
       "4    [VERB, ADP, PRON, AUX, VERB, NOUN, VERB, NOUN,...          0  future   \n",
       "5                       [PRON, AUX, VERB, PRON, PUNCT]          0  future   \n",
       "6    [PRON, AUX, VERB, DET, NOUN, PART, VERB, ADP, ...          0  future   \n",
       "8                         [PRON, AUX, ADV, ADJ, PUNCT]          0  future   \n",
       "9                        [PRON, VERB, ADV, ADJ, PUNCT]          0  future   \n",
       "..                                                 ...        ...     ...   \n",
       "975  [CCONJ, PRON, AUX, PROPN, VERB, PART, AUX, DET...          2  future   \n",
       "982  [ADP, DET, ADJ, NOUN, CCONJ, ADP, DET, PROPN, ...          2  future   \n",
       "985  [PRON, AUX, AUX, VERB, ADV, DET, NOUN, ADP, PR...          2  future   \n",
       "986  [ADP, PRON, NOUN, PUNCT, PROPN, PROPN, VERB, D...          2  future   \n",
       "992  [PRON, AUX, ADV, VERB, DET, NOUN, PUNCT, CCONJ...          2  future   \n",
       "\n",
       "                                             pos_check  sentiment_check  \\\n",
       "4    [VERB, ADP, PRON, AUX, VERB, NOUN, NOUN, NOUN,...                0   \n",
       "5                       [PRON, AUX, VERB, PRON, PUNCT]                0   \n",
       "6    [PRON, AUX, VERB, DET, NOUN, PART, VERB, ADP, ...                0   \n",
       "8                        [PRON, AUX, ADV, VERB, PUNCT]                1   \n",
       "9                        [PRON, VERB, ADV, ADJ, PUNCT]                0   \n",
       "..                                                 ...              ...   \n",
       "975  [CCONJ, PRON, AUX, NOUN, VERB, PART, AUX, DET,...                2   \n",
       "982  [ADP, DET, ADJ, NOUN, CCONJ, ADP, DET, PROPN, ...                1   \n",
       "985  [PRON, AUX, AUX, VERB, ADV, DET, NOUN, ADP, PR...                1   \n",
       "986  [ADP, PRON, NOUN, PUNCT, PROPN, PROPN, VERB, D...                2   \n",
       "992  [PRON, AUX, ADV, VERB, DET, NOUN, PUNCT, CCONJ...                1   \n",
       "\n",
       "    tense_check  lentense  \n",
       "4      {future}         1  \n",
       "5      {future}         1  \n",
       "6      {future}         1  \n",
       "8      {future}         1  \n",
       "9     {present}         1  \n",
       "..          ...       ...  \n",
       "975    {future}         1  \n",
       "982   {present}         1  \n",
       "985    {future}         1  \n",
       "986      {past}         1  \n",
       "992    {future}         1  \n",
       "\n",
       "[235 rows x 8 columns]"
      ]
     },
     "execution_count": 273,
     "metadata": {},
     "output_type": "execute_result"
    }
   ],
   "source": [
    "df_generation[(df_generation['lentense'] > 0) & (df_generation['tense'] == 'future')]"
   ]
  },
  {
   "cell_type": "code",
   "execution_count": 274,
   "id": "8dabaaed",
   "metadata": {},
   "outputs": [
    {
     "data": {
      "text/plain": [
       "0.7914893617021277"
      ]
     },
     "execution_count": 274,
     "metadata": {},
     "output_type": "execute_result"
    }
   ],
   "source": [
    "tense_exact(df_generation[(df_generation['lentense'] > 0) & (df_generation['tense'] == 'future')])"
   ]
  },
  {
   "cell_type": "markdown",
   "id": "960508da",
   "metadata": {},
   "source": [
    "# 2. Fluency metrics"
   ]
  },
  {
   "cell_type": "code",
   "execution_count": 122,
   "id": "a64d1f14",
   "metadata": {},
   "outputs": [
    {
     "data": {
      "application/vnd.jupyter.widget-view+json": {
       "model_id": "f0791449b4ee44f2b44f0b8e81bfd747",
       "version_major": 2,
       "version_minor": 0
      },
      "text/plain": [
       "Downloading builder script:   0%|          | 0.00/8.46k [00:00<?, ?B/s]"
      ]
     },
     "metadata": {},
     "output_type": "display_data"
    }
   ],
   "source": [
    "perplexity = load(\"perplexity\", module_type=\"metric\")"
   ]
  },
  {
   "cell_type": "code",
   "execution_count": 123,
   "id": "a2dbc6eb",
   "metadata": {},
   "outputs": [],
   "source": [
    "def perpl(df):\n",
    "    perplexities = perplexity.compute(predictions=df['text'].values.tolist(), model_id='gpt2', device='cpu')\n",
    "    df['perplexity'] = perplexities['perplexities']\n",
    "    return perplexities['mean_perplexity']"
   ]
  },
  {
   "cell_type": "code",
   "execution_count": 202,
   "id": "0656cf4c",
   "metadata": {},
   "outputs": [
    {
     "name": "stderr",
     "output_type": "stream",
     "text": [
      "Using pad_token, but it is not set yet.\n"
     ]
    },
    {
     "data": {
      "application/vnd.jupyter.widget-view+json": {
       "model_id": "d69a469cbd6b4378a89a725743c816f8",
       "version_major": 2,
       "version_minor": 0
      },
      "text/plain": [
       "  0%|          | 0/10 [00:00<?, ?it/s]"
      ]
     },
     "metadata": {},
     "output_type": "display_data"
    },
    {
     "data": {
      "text/plain": [
       "56.415898754172126"
      ]
     },
     "execution_count": 202,
     "metadata": {},
     "output_type": "execute_result"
    }
   ],
   "source": [
    "perpl(df_chatgpt)"
   ]
  },
  {
   "cell_type": "code",
   "execution_count": 203,
   "id": "e40d1a09",
   "metadata": {
    "scrolled": true
   },
   "outputs": [
    {
     "data": {
      "text/html": [
       "<div>\n",
       "<style scoped>\n",
       "    .dataframe tbody tr th:only-of-type {\n",
       "        vertical-align: middle;\n",
       "    }\n",
       "\n",
       "    .dataframe tbody tr th {\n",
       "        vertical-align: top;\n",
       "    }\n",
       "\n",
       "    .dataframe thead th {\n",
       "        text-align: right;\n",
       "    }\n",
       "</style>\n",
       "<table border=\"1\" class=\"dataframe\">\n",
       "  <thead>\n",
       "    <tr style=\"text-align: right;\">\n",
       "      <th></th>\n",
       "      <th>text</th>\n",
       "      <th>length</th>\n",
       "      <th>perplexity</th>\n",
       "    </tr>\n",
       "  </thead>\n",
       "  <tbody>\n",
       "    <tr>\n",
       "      <th>0</th>\n",
       "      <td>The sun sets, painting the sky orange.</td>\n",
       "      <td>7</td>\n",
       "      <td>86.738991</td>\n",
       "    </tr>\n",
       "    <tr>\n",
       "      <th>1</th>\n",
       "      <td>She smiled, her eyes sparkling.</td>\n",
       "      <td>5</td>\n",
       "      <td>42.686180</td>\n",
       "    </tr>\n",
       "    <tr>\n",
       "      <th>2</th>\n",
       "      <td>The waves crashed against the rocks as seagull...</td>\n",
       "      <td>10</td>\n",
       "      <td>38.942513</td>\n",
       "    </tr>\n",
       "    <tr>\n",
       "      <th>3</th>\n",
       "      <td>The moonlight danced upon the shimmering lake'...</td>\n",
       "      <td>8</td>\n",
       "      <td>72.072273</td>\n",
       "    </tr>\n",
       "    <tr>\n",
       "      <th>4</th>\n",
       "      <td>The autumn leaves whispered secrets in the bre...</td>\n",
       "      <td>7</td>\n",
       "      <td>272.168793</td>\n",
       "    </tr>\n",
       "    <tr>\n",
       "      <th>...</th>\n",
       "      <td>...</td>\n",
       "      <td>...</td>\n",
       "      <td>...</td>\n",
       "    </tr>\n",
       "    <tr>\n",
       "      <th>141</th>\n",
       "      <td>As the morning sun painted the sky in hues of ...</td>\n",
       "      <td>65</td>\n",
       "      <td>25.709038</td>\n",
       "    </tr>\n",
       "    <tr>\n",
       "      <th>142</th>\n",
       "      <td>In the realm of imagination, where dreams take...</td>\n",
       "      <td>70</td>\n",
       "      <td>25.391672</td>\n",
       "    </tr>\n",
       "    <tr>\n",
       "      <th>143</th>\n",
       "      <td>In the tapestry of life, we are all interconne...</td>\n",
       "      <td>73</td>\n",
       "      <td>17.450747</td>\n",
       "    </tr>\n",
       "    <tr>\n",
       "      <th>144</th>\n",
       "      <td>In the vast expanse of the universe, our tiny ...</td>\n",
       "      <td>78</td>\n",
       "      <td>19.185068</td>\n",
       "    </tr>\n",
       "    <tr>\n",
       "      <th>145</th>\n",
       "      <td>In the quiet stillness of the early morning, t...</td>\n",
       "      <td>75</td>\n",
       "      <td>22.754448</td>\n",
       "    </tr>\n",
       "  </tbody>\n",
       "</table>\n",
       "<p>146 rows × 3 columns</p>\n",
       "</div>"
      ],
      "text/plain": [
       "                                                  text  length  perplexity\n",
       "0               The sun sets, painting the sky orange.       7   86.738991\n",
       "1                      She smiled, her eyes sparkling.       5   42.686180\n",
       "2    The waves crashed against the rocks as seagull...      10   38.942513\n",
       "3    The moonlight danced upon the shimmering lake'...       8   72.072273\n",
       "4    The autumn leaves whispered secrets in the bre...       7  272.168793\n",
       "..                                                 ...     ...         ...\n",
       "141  As the morning sun painted the sky in hues of ...      65   25.709038\n",
       "142  In the realm of imagination, where dreams take...      70   25.391672\n",
       "143  In the tapestry of life, we are all interconne...      73   17.450747\n",
       "144  In the vast expanse of the universe, our tiny ...      78   19.185068\n",
       "145  In the quiet stillness of the early morning, t...      75   22.754448\n",
       "\n",
       "[146 rows x 3 columns]"
      ]
     },
     "execution_count": 203,
     "metadata": {},
     "output_type": "execute_result"
    }
   ],
   "source": [
    "df_chatgpt"
   ]
  },
  {
   "cell_type": "code",
   "execution_count": 206,
   "id": "ed4e9050",
   "metadata": {},
   "outputs": [
    {
     "data": {
      "text/plain": [
       "<Axes: >"
      ]
     },
     "execution_count": 206,
     "metadata": {},
     "output_type": "execute_result"
    },
    {
     "data": {
      "image/png": "[encoded data removed]",
      "text/plain": [
       "<Figure size 640x480 with 1 Axes>"
      ]
     },
     "metadata": {},
     "output_type": "display_data"
    }
   ],
   "source": [
    "df_chatgpt[df_chatgpt['perplexity'] < 1000]['perplexity'].hist(bins = 20)"
   ]
  },
  {
   "cell_type": "code",
   "execution_count": 208,
   "id": "54ba285b",
   "metadata": {},
   "outputs": [
    {
     "data": {
      "text/html": [
       "<div>\n",
       "<style scoped>\n",
       "    .dataframe tbody tr th:only-of-type {\n",
       "        vertical-align: middle;\n",
       "    }\n",
       "\n",
       "    .dataframe tbody tr th {\n",
       "        vertical-align: top;\n",
       "    }\n",
       "\n",
       "    .dataframe thead th {\n",
       "        text-align: right;\n",
       "    }\n",
       "</style>\n",
       "<table border=\"1\" class=\"dataframe\">\n",
       "  <thead>\n",
       "    <tr style=\"text-align: right;\">\n",
       "      <th></th>\n",
       "      <th>text</th>\n",
       "      <th>length</th>\n",
       "      <th>perplexity</th>\n",
       "    </tr>\n",
       "  </thead>\n",
       "  <tbody>\n",
       "  </tbody>\n",
       "</table>\n",
       "</div>"
      ],
      "text/plain": [
       "Empty DataFrame\n",
       "Columns: [text, length, perplexity]\n",
       "Index: []"
      ]
     },
     "execution_count": 208,
     "metadata": {},
     "output_type": "execute_result"
    }
   ],
   "source": [
    "df_chatgpt[df_chatgpt['perplexity'] > 1000]"
   ]
  },
  {
   "cell_type": "code",
   "execution_count": 114,
   "id": "f84cb4b9",
   "metadata": {},
   "outputs": [
    {
     "data": {
      "text/html": [
       "<div>\n",
       "<style scoped>\n",
       "    .dataframe tbody tr th:only-of-type {\n",
       "        vertical-align: middle;\n",
       "    }\n",
       "\n",
       "    .dataframe tbody tr th {\n",
       "        vertical-align: top;\n",
       "    }\n",
       "\n",
       "    .dataframe thead th {\n",
       "        text-align: right;\n",
       "    }\n",
       "</style>\n",
       "<table border=\"1\" class=\"dataframe\">\n",
       "  <thead>\n",
       "    <tr style=\"text-align: right;\">\n",
       "      <th></th>\n",
       "      <th>text</th>\n",
       "      <th>words</th>\n",
       "      <th>pos</th>\n",
       "      <th>sentiment</th>\n",
       "      <th>tense</th>\n",
       "    </tr>\n",
       "  </thead>\n",
       "  <tbody>\n",
       "    <tr>\n",
       "      <th>0</th>\n",
       "      <td>X can use any attack , Poké - Power , or Poké ...</td>\n",
       "      <td>19</td>\n",
       "      <td>NOUN AUX VERB DET NOUN PUNCT PROPN PUNCT PROPN...</td>\n",
       "      <td>neutral</td>\n",
       "      <td>future</td>\n",
       "    </tr>\n",
       "    <tr>\n",
       "      <th>1</th>\n",
       "      <td>There were periods when everything was more op...</td>\n",
       "      <td>14</td>\n",
       "      <td>PRON VERB NOUN SCONJ PRON AUX ADV ADJ PUNCT CC...</td>\n",
       "      <td>neutral</td>\n",
       "      <td>past</td>\n",
       "    </tr>\n",
       "    <tr>\n",
       "      <th>2</th>\n",
       "      <td>Trans people are terrified of what lies ahead .</td>\n",
       "      <td>9</td>\n",
       "      <td>PROPN NOUN AUX VERB ADP PRON VERB ADV PUNCT</td>\n",
       "      <td>negative</td>\n",
       "      <td>present</td>\n",
       "    </tr>\n",
       "    <tr>\n",
       "      <th>3</th>\n",
       "      <td>Another Global horror is The Cube in Birmingha...</td>\n",
       "      <td>23</td>\n",
       "      <td>DET ADJ NOUN AUX DET PROPN ADP PROPN PUNCT DET...</td>\n",
       "      <td>negative</td>\n",
       "      <td>present</td>\n",
       "    </tr>\n",
       "    <tr>\n",
       "      <th>4</th>\n",
       "      <td>The innovative one piece stainless steel shiel...</td>\n",
       "      <td>26</td>\n",
       "      <td>DET ADJ NUM NOUN ADJ NOUN VERB NOUN ADP PROPN ...</td>\n",
       "      <td>positive</td>\n",
       "      <td>present</td>\n",
       "    </tr>\n",
       "    <tr>\n",
       "      <th>...</th>\n",
       "      <td>...</td>\n",
       "      <td>...</td>\n",
       "      <td>...</td>\n",
       "      <td>...</td>\n",
       "      <td>...</td>\n",
       "    </tr>\n",
       "    <tr>\n",
       "      <th>11027</th>\n",
       "      <td>The application of Dye Solar Cells ( DSC 's ) ...</td>\n",
       "      <td>38</td>\n",
       "      <td>DET NOUN ADP PROPN PROPN PROPN PUNCT PROPN PAR...</td>\n",
       "      <td>positive</td>\n",
       "      <td>present</td>\n",
       "    </tr>\n",
       "    <tr>\n",
       "      <th>11028</th>\n",
       "      <td>Along with the majority of Canadians elsewhere...</td>\n",
       "      <td>22</td>\n",
       "      <td>ADP ADP DET NOUN ADP PROPN ADV PUNCT PROPN VER...</td>\n",
       "      <td>neutral</td>\n",
       "      <td>past</td>\n",
       "    </tr>\n",
       "    <tr>\n",
       "      <th>11029</th>\n",
       "      <td>IBM , like other established tech companies , ...</td>\n",
       "      <td>33</td>\n",
       "      <td>PROPN PUNCT ADP ADJ VERB NOUN NOUN PUNCT VERB ...</td>\n",
       "      <td>positive</td>\n",
       "      <td>past</td>\n",
       "    </tr>\n",
       "    <tr>\n",
       "      <th>11030</th>\n",
       "      <td>Valuation movements ( think potential falls ) ...</td>\n",
       "      <td>23</td>\n",
       "      <td>NOUN NOUN PUNCT VERB ADJ NOUN PUNCT AUX NOUN V...</td>\n",
       "      <td>neutral</td>\n",
       "      <td>future</td>\n",
       "    </tr>\n",
       "    <tr>\n",
       "      <th>11031</th>\n",
       "      <td>Civil - liberties groups preferred the privacy...</td>\n",
       "      <td>23</td>\n",
       "      <td>ADJ PUNCT NOUN NOUN VERB DET NOUN NOUN ADP DET...</td>\n",
       "      <td>neutral</td>\n",
       "      <td>past</td>\n",
       "    </tr>\n",
       "  </tbody>\n",
       "</table>\n",
       "<p>11032 rows × 5 columns</p>\n",
       "</div>"
      ],
      "text/plain": [
       "                                                    text  words  \\\n",
       "0      X can use any attack , Poké - Power , or Poké ...     19   \n",
       "1      There were periods when everything was more op...     14   \n",
       "2        Trans people are terrified of what lies ahead .      9   \n",
       "3      Another Global horror is The Cube in Birmingha...     23   \n",
       "4      The innovative one piece stainless steel shiel...     26   \n",
       "...                                                  ...    ...   \n",
       "11027  The application of Dye Solar Cells ( DSC 's ) ...     38   \n",
       "11028  Along with the majority of Canadians elsewhere...     22   \n",
       "11029  IBM , like other established tech companies , ...     33   \n",
       "11030  Valuation movements ( think potential falls ) ...     23   \n",
       "11031  Civil - liberties groups preferred the privacy...     23   \n",
       "\n",
       "                                                     pos sentiment    tense  \n",
       "0      NOUN AUX VERB DET NOUN PUNCT PROPN PUNCT PROPN...   neutral   future  \n",
       "1      PRON VERB NOUN SCONJ PRON AUX ADV ADJ PUNCT CC...   neutral     past  \n",
       "2            PROPN NOUN AUX VERB ADP PRON VERB ADV PUNCT  negative  present  \n",
       "3      DET ADJ NOUN AUX DET PROPN ADP PROPN PUNCT DET...  negative  present  \n",
       "4      DET ADJ NUM NOUN ADJ NOUN VERB NOUN ADP PROPN ...  positive  present  \n",
       "...                                                  ...       ...      ...  \n",
       "11027  DET NOUN ADP PROPN PROPN PROPN PUNCT PROPN PAR...  positive  present  \n",
       "11028  ADP ADP DET NOUN ADP PROPN ADV PUNCT PROPN VER...   neutral     past  \n",
       "11029  PROPN PUNCT ADP ADJ VERB NOUN NOUN PUNCT VERB ...  positive     past  \n",
       "11030  NOUN NOUN PUNCT VERB ADJ NOUN PUNCT AUX NOUN V...   neutral   future  \n",
       "11031  ADJ PUNCT NOUN NOUN VERB DET NOUN NOUN ADP DET...   neutral     past  \n",
       "\n",
       "[11032 rows x 5 columns]"
      ]
     },
     "execution_count": 114,
     "metadata": {},
     "output_type": "execute_result"
    }
   ],
   "source": [
    "# df_mauve_compare = pd.read_csv('../230503_ucu_materials/data/val.csv')\n",
    "# df_mauve_compare['pos'] = df_mauve_compare.apply(lambda row: eval(row['pos']), axis=1)\n",
    "# df_mauve_compare"
   ]
  },
  {
   "cell_type": "code",
   "execution_count": 36,
   "id": "6b00f8e0",
   "metadata": {},
   "outputs": [],
   "source": [
    "# def compute_mauve(human_df, generated_df):\n",
    "#     if len(generated_df) > 5000: num_buckets = 500\n",
    "#     else: num_buckets = 'auto'\n",
    "#     return mauve.compute_mauve(p_text=human_df['text'].values.tolist(), q_text=generated_df['text'].values.tolist(), device_id=0, max_text_length=256, verbose=True, num_buckets=num_buckets)"
   ]
  },
  {
   "cell_type": "code",
   "execution_count": null,
   "id": "32edc10d",
   "metadata": {},
   "outputs": [
    {
     "name": "stdout",
     "output_type": "stream",
     "text": [
      "Loading tokenizer\n",
      "Tokenizing text...\n",
      "Loading tokenizer\n",
      "Loading model\n"
     ]
    }
   ],
   "source": [
    "# compute_mauve(df_mauve_compare, df_generation).mauve"
   ]
  },
  {
   "cell_type": "markdown",
   "id": "b320ab98",
   "metadata": {},
   "source": [
    "# 3. Distinctivness metrics"
   ]
  },
  {
   "cell_type": "code",
   "execution_count": 130,
   "id": "7ffbd10d",
   "metadata": {},
   "outputs": [],
   "source": [
    "def distinct_ngrams_in_sentence(df, n):\n",
    "    distinct_ngrams = []\n",
    "    for i in range(len(df)):\n",
    "        ngrams = list(nltk.ngrams(df['text'][i].split(), n))\n",
    "        unique_ngrams = set(ngrams)\n",
    "        if len(ngrams) > 0: distinct_ngrams.append(len(unique_ngrams)/len(ngrams))\n",
    "    return np.mean(distinct_ngrams)"
   ]
  },
  {
   "cell_type": "code",
   "execution_count": 219,
   "id": "f7cb4312",
   "metadata": {},
   "outputs": [
    {
     "data": {
      "text/plain": [
       "0.9131189900263962"
      ]
     },
     "execution_count": 219,
     "metadata": {},
     "output_type": "execute_result"
    }
   ],
   "source": [
    "distinct_ngrams_in_sentence(df_chatgpt, 1)"
   ]
  },
  {
   "cell_type": "code",
   "execution_count": 220,
   "id": "ae1745fe",
   "metadata": {},
   "outputs": [
    {
     "data": {
      "text/plain": [
       "0.9990730231832536"
      ]
     },
     "execution_count": 220,
     "metadata": {},
     "output_type": "execute_result"
    }
   ],
   "source": [
    "distinct_ngrams_in_sentence(df_chatgpt, 2)"
   ]
  },
  {
   "cell_type": "code",
   "execution_count": 221,
   "id": "4536994c",
   "metadata": {},
   "outputs": [
    {
     "data": {
      "text/plain": [
       "1.0"
      ]
     },
     "execution_count": 221,
     "metadata": {},
     "output_type": "execute_result"
    }
   ],
   "source": [
    "distinct_ngrams_in_sentence(df_chatgpt, 3)"
   ]
  },
  {
   "cell_type": "code",
   "execution_count": 134,
   "id": "dc7cbdf4",
   "metadata": {},
   "outputs": [],
   "source": [
    "def distinct_ngrams_in_all_sentences(df, n):\n",
    "    ngrams = []\n",
    "    for i in range(len(df)):\n",
    "        ngrams += list(nltk.ngrams(df['text'][i].split(), n))\n",
    "    unique_ngrams = set(ngrams)\n",
    "    return len(unique_ngrams)/len(ngrams)"
   ]
  },
  {
   "cell_type": "code",
   "execution_count": 222,
   "id": "6a90ba56",
   "metadata": {},
   "outputs": [
    {
     "data": {
      "text/plain": [
       "0.27859391395592864"
      ]
     },
     "execution_count": 222,
     "metadata": {},
     "output_type": "execute_result"
    }
   ],
   "source": [
    "distinct_ngrams_in_all_sentences(df_chatgpt, 1)"
   ]
  },
  {
   "cell_type": "code",
   "execution_count": 223,
   "id": "0b9564e9",
   "metadata": {},
   "outputs": [
    {
     "data": {
      "text/plain": [
       "0.6197490452809602"
      ]
     },
     "execution_count": 223,
     "metadata": {},
     "output_type": "execute_result"
    }
   ],
   "source": [
    "distinct_ngrams_in_all_sentences(df_chatgpt, 2)"
   ]
  },
  {
   "cell_type": "code",
   "execution_count": 224,
   "id": "3c3637cc",
   "metadata": {},
   "outputs": [
    {
     "data": {
      "text/plain": [
       "0.8173295454545455"
      ]
     },
     "execution_count": 224,
     "metadata": {},
     "output_type": "execute_result"
    }
   ],
   "source": [
    "distinct_ngrams_in_all_sentences(df_chatgpt, 3)"
   ]
  },
  {
   "cell_type": "code",
   "execution_count": 138,
   "id": "8c93f917",
   "metadata": {},
   "outputs": [],
   "source": [
    "def distinct_endings(df, n):\n",
    "    sentence_endings = []\n",
    "    for i in range(len(df)):\n",
    "        sentence_endings.append(str(list(nltk.ngrams(df['text'][i].split(), 1))[-n:]))\n",
    "    unique_endings = set(sentence_endings)\n",
    "    return len(unique_endings)/len(sentence_endings)"
   ]
  },
  {
   "cell_type": "code",
   "execution_count": 225,
   "id": "bbd6c2a8",
   "metadata": {},
   "outputs": [
    {
     "data": {
      "text/plain": [
       "0.9383561643835616"
      ]
     },
     "execution_count": 225,
     "metadata": {},
     "output_type": "execute_result"
    }
   ],
   "source": [
    "distinct_endings(df_chatgpt, 2)"
   ]
  },
  {
   "cell_type": "code",
   "execution_count": 226,
   "id": "b7732b3d",
   "metadata": {},
   "outputs": [
    {
     "data": {
      "text/plain": [
       "0.9657534246575342"
      ]
     },
     "execution_count": 226,
     "metadata": {},
     "output_type": "execute_result"
    }
   ],
   "source": [
    "distinct_endings(df_chatgpt, 3)"
   ]
  },
  {
   "cell_type": "code",
   "execution_count": 141,
   "id": "1bf72cb6",
   "metadata": {},
   "outputs": [],
   "source": [
    "def distinct_beginnings(df, n):\n",
    "    sentence_beginnings = []\n",
    "    for i in range(len(df)):\n",
    "        sentence_beginnings.append(str(list(nltk.ngrams(df['text'][i].split(), 1))[:n]))\n",
    "    unique_beginnings = set(sentence_beginnings)\n",
    "    return len(unique_beginnings)/len(sentence_beginnings)"
   ]
  },
  {
   "cell_type": "code",
   "execution_count": 227,
   "id": "84677ddd",
   "metadata": {},
   "outputs": [
    {
     "data": {
      "text/plain": [
       "0.3561643835616438"
      ]
     },
     "execution_count": 227,
     "metadata": {},
     "output_type": "execute_result"
    }
   ],
   "source": [
    "distinct_beginnings(df_chatgpt, 2)"
   ]
  },
  {
   "cell_type": "code",
   "execution_count": 228,
   "id": "94357084",
   "metadata": {},
   "outputs": [
    {
     "data": {
      "text/plain": [
       "0.5753424657534246"
      ]
     },
     "execution_count": 228,
     "metadata": {},
     "output_type": "execute_result"
    }
   ],
   "source": [
    "distinct_beginnings(df_chatgpt, 3)"
   ]
  },
  {
   "cell_type": "code",
   "execution_count": 144,
   "id": "02e9880e",
   "metadata": {},
   "outputs": [],
   "source": [
    "def distinct_ngrams_for_repeated_pos(df, n):\n",
    "    ngrams_df = []\n",
    "    i = 0\n",
    "    while i < len(df):\n",
    "        ngrams = []\n",
    "        for j in range(5):\n",
    "            ngrams += list(nltk.ngrams(df['text'][i + j].split(), n))\n",
    "        unique_ngrams = set(ngrams)\n",
    "        i += 5\n",
    "        ngrams_df.append(len(unique_ngrams)/len(ngrams))\n",
    "    return np.mean(ngrams_df)"
   ]
  },
  {
   "cell_type": "code",
   "execution_count": 145,
   "id": "9a078b37",
   "metadata": {},
   "outputs": [
    {
     "data": {
      "text/plain": [
       "0.9919227818414462"
      ]
     },
     "execution_count": 145,
     "metadata": {},
     "output_type": "execute_result"
    }
   ],
   "source": [
    "distinct_ngrams_for_repeated_pos(df_generation, 2)"
   ]
  },
  {
   "cell_type": "code",
   "execution_count": 146,
   "id": "c78e7427",
   "metadata": {},
   "outputs": [
    {
     "data": {
      "text/plain": [
       "1.0"
      ]
     },
     "execution_count": 146,
     "metadata": {},
     "output_type": "execute_result"
    }
   ],
   "source": [
    "distinct_ngrams_for_repeated_pos(df_generation, 3)"
   ]
  },
  {
   "cell_type": "code",
   "execution_count": 147,
   "id": "500b3e79",
   "metadata": {},
   "outputs": [
    {
     "data": {
      "text/plain": [
       "1.0"
      ]
     },
     "execution_count": 147,
     "metadata": {},
     "output_type": "execute_result"
    }
   ],
   "source": [
    "distinct_ngrams_for_repeated_pos(df_generation, 5)"
   ]
  },
  {
   "cell_type": "code",
   "execution_count": 148,
   "id": "9875ba12",
   "metadata": {},
   "outputs": [],
   "source": [
    "def distinct_endings_for_repeated_pos(df, n):\n",
    "    df_endings = []\n",
    "    i = 0\n",
    "    while i < len(df):\n",
    "        sentence_endings = []\n",
    "        for j in range(5):\n",
    "            sentence_endings.append(str(list(nltk.ngrams(df['text'][i + j].split(), 1))[-n:]))\n",
    "        unique_endings = set(sentence_endings)\n",
    "        i += 5\n",
    "        df_endings.append(len(unique_endings)/len(sentence_endings))\n",
    "    return np.mean(df_endings)"
   ]
  },
  {
   "cell_type": "code",
   "execution_count": 149,
   "id": "1ba49983",
   "metadata": {},
   "outputs": [
    {
     "data": {
      "text/plain": [
       "1.0"
      ]
     },
     "execution_count": 149,
     "metadata": {},
     "output_type": "execute_result"
    }
   ],
   "source": [
    "distinct_endings_for_repeated_pos(df_generation, 2)"
   ]
  },
  {
   "cell_type": "code",
   "execution_count": 150,
   "id": "046ab19f",
   "metadata": {},
   "outputs": [
    {
     "data": {
      "text/plain": [
       "1.0"
      ]
     },
     "execution_count": 150,
     "metadata": {},
     "output_type": "execute_result"
    }
   ],
   "source": [
    "distinct_endings_for_repeated_pos(df_generation, 3)"
   ]
  },
  {
   "cell_type": "code",
   "execution_count": 151,
   "id": "35eaa626",
   "metadata": {},
   "outputs": [],
   "source": [
    "def distinct_beginnings_for_repeated_pos(df, n):\n",
    "    df_beginnings = []\n",
    "    i = 0\n",
    "    while i < len(df):\n",
    "        sentence_beginnings = []\n",
    "        for j in range(5):\n",
    "            sentence_beginnings.append(str(list(nltk.ngrams(df['text'][i + j].split(), 1))[:n]))\n",
    "        unique_beginnings = set(sentence_beginnings)\n",
    "        i += 5\n",
    "        df_beginnings.append(len(unique_beginnings)/len(sentence_beginnings))\n",
    "    return np.mean(df_beginnings)"
   ]
  },
  {
   "cell_type": "code",
   "execution_count": 152,
   "id": "378b5e32",
   "metadata": {},
   "outputs": [
    {
     "data": {
      "text/plain": [
       "1.0"
      ]
     },
     "execution_count": 152,
     "metadata": {},
     "output_type": "execute_result"
    }
   ],
   "source": [
    "distinct_beginnings_for_repeated_pos(df_generation, 2)"
   ]
  },
  {
   "cell_type": "code",
   "execution_count": 153,
   "id": "2fb63d76",
   "metadata": {},
   "outputs": [
    {
     "data": {
      "text/plain": [
       "1.0"
      ]
     },
     "execution_count": 153,
     "metadata": {},
     "output_type": "execute_result"
    }
   ],
   "source": [
    "distinct_beginnings_for_repeated_pos(df_generation, 3)"
   ]
  },
  {
   "cell_type": "markdown",
   "id": "f926610b",
   "metadata": {},
   "source": [
    "# 4. Repetition metrics"
   ]
  },
  {
   "cell_type": "code",
   "execution_count": 31,
   "id": "670a51ae",
   "metadata": {},
   "outputs": [],
   "source": [
    "def distinct_ngrams_repetition(df, df_train, n):\n",
    "    ngrams = []\n",
    "    for i in range(len(df)):\n",
    "        ngrams += list(nltk.ngrams(df['text'][i].split(), n))\n",
    "    ngrams_train = []\n",
    "    for i in range(len(df_train)):\n",
    "        ngrams_train += list(nltk.ngrams(df_train['text'][i].split(), n))\n",
    "    ngrams_rep = [x for x in ngrams if x in ngrams_train]\n",
    "    return 1-len(ngrams_rep)/len(ngrams)"
   ]
  },
  {
   "cell_type": "code",
   "execution_count": 32,
   "id": "27002b76",
   "metadata": {},
   "outputs": [
    {
     "data": {
      "text/plain": [
       "0.5627926120286053"
      ]
     },
     "execution_count": 32,
     "metadata": {},
     "output_type": "execute_result"
    }
   ],
   "source": [
    "distinct_ngrams_repetition(df_generation, df_train, 3)"
   ]
  },
  {
   "cell_type": "code",
   "execution_count": 33,
   "id": "90a42bcf",
   "metadata": {},
   "outputs": [
    {
     "data": {
      "text/plain": [
       "0.962665596146126"
      ]
     },
     "execution_count": 33,
     "metadata": {},
     "output_type": "execute_result"
    }
   ],
   "source": [
    "distinct_ngrams_repetition(df_generation, df_train, 5)"
   ]
  }
 ],
 "metadata": {
  "kernelspec": {
   "display_name": "Python 3 (ipykernel)",
   "language": "python",
   "name": "python3"
  },
  "language_info": {
   "codemirror_mode": {
    "name": "ipython",
    "version": 3
   },
   "file_extension": ".py",
   "mimetype": "text/x-python",
   "name": "python",
   "nbconvert_exporter": "python",
   "pygments_lexer": "ipython3",
   "version": "3.10.9"
  }
 },
 "nbformat": 4,
 "nbformat_minor": 5
}
